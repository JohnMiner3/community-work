{
 "cells": [
  {
   "cell_type": "code",
   "execution_count": null,
   "id": "5fa64e66",
   "metadata": {},
   "outputs": [],
   "source": [
    "#******************************************************\n",
    "# *\n",
    "# * Name:     nb-fabric-bites-004.ipynb\n",
    "# *   \n",
    "# * Design Phase:\n",
    "# *   Author:  John Miner\n",
    "# *   Date:    04-29-2025\n",
    "# *   Purpose: Manage a lakehouse using the Semantic Link\n",
    "#*             and Semantic Link Labs libraries.\n",
    "# * \n",
    "# ******************************************************"
   ]
  },
  {
   "cell_type": "markdown",
   "id": "13680d02-7ee0-4dd3-9a38-b938fa28f3af",
   "metadata": {
    "nteract": {
     "transient": {
      "deleting": false
     }
    }
   },
   "source": [
    "## **Install - Semantic Link**"
   ]
  },
  {
   "cell_type": "code",
   "execution_count": 1,
   "id": "e8dbd4f3-5635-4bf7-85ff-9ed4413c8977",
   "metadata": {
    "microsoft": {
     "language": "python",
     "language_group": "synapse_pyspark"
    }
   },
   "outputs": [
    {
     "data": {
      "application/vnd.livy.statement-meta+json": {
       "execution_finish_time": "2025-04-29T16:12:54.6255501Z",
       "execution_start_time": "2025-04-29T16:12:26.7095118Z",
       "livy_statement_state": "available",
       "normalized_state": "finished",
       "parent_msg_id": "ec7c7023-0ecd-41d4-855f-7b7bc5701b27",
       "queued_time": "2025-04-29T16:12:12.1477104Z",
       "session_id": "a1864cdb-fea7-4536-8845-f284af5be84b",
       "session_start_time": "2025-04-29T16:12:12.1480584Z",
       "spark_pool": null,
       "state": "finished",
       "statement_id": 7,
       "statement_ids": [
        3,
        4,
        5,
        6,
        7
       ]
      },
      "text/plain": [
       "StatementMeta(, a1864cdb-fea7-4536-8845-f284af5be84b, 7, Finished, Available, Finished)"
      ]
     },
     "metadata": {},
     "output_type": "display_data"
    },
    {
     "name": "stdout",
     "output_type": "stream",
     "text": [
      "\n",
      "\u001b[1m[\u001b[0m\u001b[34;49mnotice\u001b[0m\u001b[1;39;49m]\u001b[0m\u001b[39;49m A new release of pip is available: \u001b[0m\u001b[31;49m24.0\u001b[0m\u001b[39;49m -> \u001b[0m\u001b[32;49m25.1\u001b[0m\n",
      "\u001b[1m[\u001b[0m\u001b[34;49mnotice\u001b[0m\u001b[1;39;49m]\u001b[0m\u001b[39;49m To update, run: \u001b[0m\u001b[32;49mpython -m pip install --upgrade pip\u001b[0m\n",
      "Note: you may need to restart the kernel to use updated packages.\n",
      "Warning: PySpark kernel has been restarted to use updated packages.\n",
      "\n"
     ]
    }
   ],
   "source": [
    "%pip install semantic-link --q\n"
   ]
  },
  {
   "cell_type": "code",
   "execution_count": null,
   "id": "fec66938-e293-4a93-9f87-c106f3bc63a0",
   "metadata": {
    "microsoft": {
     "language": "python",
     "language_group": "synapse_pyspark"
    }
   },
   "outputs": [],
   "source": [
    "# https://learn.microsoft.com/en-us/python/api/semantic-link-sempy/sempy.fabric?view=semantic-link-python"
   ]
  },
  {
   "cell_type": "markdown",
   "id": "9f32dbdf-4084-478d-83de-38934ec91e49",
   "metadata": {
    "nteract": {
     "transient": {
      "deleting": false
     }
    }
   },
   "source": [
    "## **Install - Semantic Link Labs**"
   ]
  },
  {
   "cell_type": "code",
   "execution_count": 2,
   "id": "827a8d38-7654-45d9-84e9-2bffb409938e",
   "metadata": {
    "microsoft": {
     "language": "python",
     "language_group": "synapse_pyspark"
    }
   },
   "outputs": [
    {
     "data": {
      "application/vnd.livy.statement-meta+json": {
       "execution_finish_time": "2025-04-29T16:13:26.061841Z",
       "execution_start_time": "2025-04-29T16:13:14.7982069Z",
       "livy_statement_state": "available",
       "normalized_state": "finished",
       "parent_msg_id": "df0c9aae-d0a8-49de-b06d-2646f5c98cc2",
       "queued_time": "2025-04-29T16:13:14.7977514Z",
       "session_id": "a1864cdb-fea7-4536-8845-f284af5be84b",
       "session_start_time": null,
       "spark_pool": null,
       "state": "finished",
       "statement_id": 13,
       "statement_ids": [
        9,
        10,
        11,
        12,
        13
       ]
      },
      "text/plain": [
       "StatementMeta(, a1864cdb-fea7-4536-8845-f284af5be84b, 13, Finished, Available, Finished)"
      ]
     },
     "metadata": {},
     "output_type": "display_data"
    },
    {
     "name": "stdout",
     "output_type": "stream",
     "text": [
      "\n",
      "\u001b[1m[\u001b[0m\u001b[34;49mnotice\u001b[0m\u001b[1;39;49m]\u001b[0m\u001b[39;49m A new release of pip is available: \u001b[0m\u001b[31;49m24.0\u001b[0m\u001b[39;49m -> \u001b[0m\u001b[32;49m25.1\u001b[0m\n",
      "\u001b[1m[\u001b[0m\u001b[34;49mnotice\u001b[0m\u001b[1;39;49m]\u001b[0m\u001b[39;49m To update, run: \u001b[0m\u001b[32;49mpython -m pip install --upgrade pip\u001b[0m\n",
      "Note: you may need to restart the kernel to use updated packages.\n",
      "Warning: PySpark kernel has been restarted to use updated packages.\n",
      "\n"
     ]
    }
   ],
   "source": [
    "%pip install semantic-link-labs --q"
   ]
  },
  {
   "cell_type": "code",
   "execution_count": null,
   "id": "5336c837-72ae-4d5f-9adf-067c52d5f867",
   "metadata": {
    "microsoft": {
     "language": "python",
     "language_group": "synapse_pyspark"
    }
   },
   "outputs": [],
   "source": [
    "# https://semantic-link-labs.readthedocs.io/en/latest/"
   ]
  },
  {
   "cell_type": "code",
   "execution_count": 3,
   "id": "0b064bd1-b7c8-4ab1-a25d-45aff9177b57",
   "metadata": {
    "microsoft": {
     "language": "python",
     "language_group": "synapse_pyspark"
    }
   },
   "outputs": [
    {
     "data": {
      "application/vnd.livy.statement-meta+json": {
       "execution_finish_time": "2025-04-29T16:13:36.7269417Z",
       "execution_start_time": "2025-04-29T16:13:32.8349959Z",
       "livy_statement_state": "available",
       "normalized_state": "finished",
       "parent_msg_id": "2c2d40b2-6b43-47be-b5ef-fa26f3bdae5e",
       "queued_time": "2025-04-29T16:13:27.5324482Z",
       "session_id": "a1864cdb-fea7-4536-8845-f284af5be84b",
       "session_start_time": null,
       "spark_pool": null,
       "state": "finished",
       "statement_id": 15,
       "statement_ids": [
        15
       ]
      },
      "text/plain": [
       "StatementMeta(, a1864cdb-fea7-4536-8845-f284af5be84b, 15, Finished, Available, Finished)"
      ]
     },
     "metadata": {},
     "output_type": "display_data"
    }
   ],
   "source": [
    "#\n",
    "#  Import libraries\n",
    "#\n",
    "\n",
    "\n",
    "import sempy.fabric as fabric\n",
    "import sempy_labs as labs  \n"
   ]
  },
  {
   "cell_type": "code",
   "execution_count": 5,
   "id": "4c78fffc-74a4-412f-907c-569d67c39a2e",
   "metadata": {
    "microsoft": {
     "language": "python",
     "language_group": "synapse_pyspark"
    }
   },
   "outputs": [
    {
     "data": {
      "application/vnd.livy.statement-meta+json": {
       "execution_finish_time": "2025-04-28T18:38:15.5143048Z",
       "execution_start_time": "2025-04-28T18:38:14.5872089Z",
       "livy_statement_state": "available",
       "normalized_state": "finished",
       "parent_msg_id": "33c5ca92-ade5-4a64-b572-f2b5f499062e",
       "queued_time": "2025-04-28T18:38:14.5861244Z",
       "session_id": "f6076c4f-bee7-41a4-8d31-91be404563e0",
       "session_start_time": null,
       "spark_pool": null,
       "state": "finished",
       "statement_id": 22,
       "statement_ids": [
        22
       ]
      },
      "text/plain": [
       "StatementMeta(, f6076c4f-bee7-41a4-8d31-91be404563e0, 22, Finished, Available, Finished)"
      ]
     },
     "metadata": {},
     "output_type": "display_data"
    },
    {
     "data": {
      "text/html": [
       "<div>\n",
       "<style scoped>\n",
       "    .dataframe tbody tr th:only-of-type {\n",
       "        vertical-align: middle;\n",
       "    }\n",
       "\n",
       "    .dataframe tbody tr th {\n",
       "        vertical-align: top;\n",
       "    }\n",
       "\n",
       "    .dataframe thead th {\n",
       "        text-align: right;\n",
       "    }\n",
       "</style>\n",
       "<table border=\"1\" class=\"dataframe\">\n",
       "  <thead>\n",
       "    <tr style=\"text-align: right;\">\n",
       "      <th></th>\n",
       "      <th>Id</th>\n",
       "      <th>Name</th>\n",
       "      <th>State</th>\n",
       "      <th>Type</th>\n",
       "      <th>Capacity Id</th>\n",
       "    </tr>\n",
       "  </thead>\n",
       "  <tbody>\n",
       "    <tr>\n",
       "      <th>5</th>\n",
       "      <td>8742d3fd-917c-4983-b173-bd50df60c9f3</td>\n",
       "      <td>ws-aviation-tracker</td>\n",
       "      <td>Active</td>\n",
       "      <td>Workspace</td>\n",
       "      <td>5702477c-633a-4e41-aab0-221645b8f348</td>\n",
       "    </tr>\n",
       "    <tr>\n",
       "      <th>17</th>\n",
       "      <td>f2b0f1b9-f434-46d9-8f74-bc985dad2143</td>\n",
       "      <td>ws-dev-advwrks-analytics</td>\n",
       "      <td>Active</td>\n",
       "      <td>Workspace</td>\n",
       "      <td>5702477c-633a-4e41-aab0-221645b8f348</td>\n",
       "    </tr>\n",
       "  </tbody>\n",
       "</table>\n",
       "</div>"
      ],
      "text/plain": [
       "                                      Id                      Name   State  \\\n",
       "5   8742d3fd-917c-4983-b173-bd50df60c9f3       ws-aviation-tracker  Active   \n",
       "17  f2b0f1b9-f434-46d9-8f74-bc985dad2143  ws-dev-advwrks-analytics  Active   \n",
       "\n",
       "         Type                           Capacity Id  \n",
       "5   Workspace  5702477c-633a-4e41-aab0-221645b8f348  \n",
       "17  Workspace  5702477c-633a-4e41-aab0-221645b8f348  "
      ]
     },
     "execution_count": 10,
     "metadata": {},
     "output_type": "execute_result"
    }
   ],
   "source": [
    "\n",
    "#\n",
    "#  Show non-personal workspaces\n",
    "#\n",
    "\n",
    "# full list\n",
    "df_wkspc = labs.admin.list_workspaces()\n",
    "\n",
    "# share workspaces\n",
    "df_shared = df_wkspc[df_wkspc['Type'] == 'Workspace']\n",
    "\n",
    "# workspaces of interest\n",
    "lst_workspaces = ['ws-aviation-tracker', 'ws-dev-advwrks-analytics']\n",
    "\n",
    "# this article\n",
    "df_article = df_shared[df_shared['Name'].isin(lst_workspaces)]\n",
    "\n",
    "# show df\n",
    "df_article\n"
   ]
  },
  {
   "cell_type": "code",
   "execution_count": null,
   "id": "493f5687-436c-4166-baae-8342d19097a2",
   "metadata": {
    "microsoft": {
     "language": "python",
     "language_group": "synapse_pyspark"
    }
   },
   "outputs": [
    {
     "data": {
      "application/vnd.livy.statement-meta+json": {
       "execution_finish_time": "2025-04-28T18:54:56.9698888Z",
       "execution_start_time": "2025-04-28T18:54:56.1092723Z",
       "livy_statement_state": "available",
       "normalized_state": "finished",
       "parent_msg_id": "4a3a39c7-41f9-460f-953a-99c188638482",
       "queued_time": "2025-04-28T18:54:56.1080531Z",
       "session_id": "f6076c4f-bee7-41a4-8d31-91be404563e0",
       "session_start_time": null,
       "spark_pool": null,
       "state": "finished",
       "statement_id": 52,
       "statement_ids": [
        52
       ]
      },
      "text/plain": [
       "StatementMeta(, f6076c4f-bee7-41a4-8d31-91be404563e0, 52, Finished, Available, Finished)"
      ]
     },
     "metadata": {},
     "output_type": "display_data"
    },
    {
     "data": {
      "text/html": [
       "<div>\n",
       "<style scoped>\n",
       "    .dataframe tbody tr th:only-of-type {\n",
       "        vertical-align: middle;\n",
       "    }\n",
       "\n",
       "    .dataframe tbody tr th {\n",
       "        vertical-align: top;\n",
       "    }\n",
       "\n",
       "    .dataframe thead th {\n",
       "        text-align: right;\n",
       "    }\n",
       "</style>\n",
       "<table border=\"1\" class=\"dataframe\">\n",
       "  <thead>\n",
       "    <tr style=\"text-align: right;\">\n",
       "      <th></th>\n",
       "      <th>Lakehouse Name</th>\n",
       "      <th>Lakehouse ID</th>\n",
       "      <th>Description</th>\n",
       "      <th>OneLake Tables Path</th>\n",
       "      <th>OneLake Files Path</th>\n",
       "      <th>SQL Endpoint Connection String</th>\n",
       "      <th>SQL Endpoint ID</th>\n",
       "      <th>SQL Endpoint Provisioning Status</th>\n",
       "    </tr>\n",
       "  </thead>\n",
       "  <tbody>\n",
       "    <tr>\n",
       "      <th>0</th>\n",
       "      <td>lh_aviation_tracker</td>\n",
       "      <td>37a264ac-861c-4d8b-b619-05c7e99ded93</td>\n",
       "      <td></td>\n",
       "      <td>https://onelake.dfs.fabric.microsoft.com/8742d...</td>\n",
       "      <td>https://onelake.dfs.fabric.microsoft.com/8742d...</td>\n",
       "      <td>abgrhetr4hsurajv2abiablt4q-7xjufb34sgbutmltxvi...</td>\n",
       "      <td>0943af89-0a18-4c81-a43f-b7e8334d6041</td>\n",
       "      <td>Success</td>\n",
       "    </tr>\n",
       "  </tbody>\n",
       "</table>\n",
       "</div>"
      ],
      "text/plain": [
       "        Lakehouse Name                          Lakehouse ID Description  \\\n",
       "0  lh_aviation_tracker  37a264ac-861c-4d8b-b619-05c7e99ded93               \n",
       "\n",
       "                                 OneLake Tables Path  \\\n",
       "0  https://onelake.dfs.fabric.microsoft.com/8742d...   \n",
       "\n",
       "                                  OneLake Files Path  \\\n",
       "0  https://onelake.dfs.fabric.microsoft.com/8742d...   \n",
       "\n",
       "                      SQL Endpoint Connection String  \\\n",
       "0  abgrhetr4hsurajv2abiablt4q-7xjufb34sgbutmltxvi...   \n",
       "\n",
       "                        SQL Endpoint ID SQL Endpoint Provisioning Status  \n",
       "0  0943af89-0a18-4c81-a43f-b7e8334d6041                          Success  "
      ]
     },
     "execution_count": 100,
     "metadata": {},
     "output_type": "execute_result"
    }
   ],
   "source": [
    "#\n",
    "#  List lakehouses\n",
    "#\n",
    "\n",
    "# get df\n",
    "df_lakehouse_list = labs.list_lakehouses('ws-aviation-tracker')\n",
    "\n",
    "# show df\n",
    "df_lakehouse_list\n"
   ]
  },
  {
   "cell_type": "code",
   "execution_count": 13,
   "id": "3f202544-1823-43b9-ab88-7d633a2b3fdd",
   "metadata": {
    "microsoft": {
     "language": "python",
     "language_group": "synapse_pyspark"
    }
   },
   "outputs": [
    {
     "data": {
      "application/vnd.livy.statement-meta+json": {
       "execution_finish_time": "2025-04-28T18:44:26.3264576Z",
       "execution_start_time": "2025-04-28T18:44:22.97979Z",
       "livy_statement_state": "available",
       "normalized_state": "finished",
       "parent_msg_id": "494ddfaa-9700-4659-9e32-f3721de32120",
       "queued_time": "2025-04-28T18:44:22.9785919Z",
       "session_id": "f6076c4f-bee7-41a4-8d31-91be404563e0",
       "session_start_time": null,
       "spark_pool": null,
       "state": "finished",
       "statement_id": 30,
       "statement_ids": [
        30
       ]
      },
      "text/plain": [
       "StatementMeta(, f6076c4f-bee7-41a4-8d31-91be404563e0, 30, Finished, Available, Finished)"
      ]
     },
     "metadata": {},
     "output_type": "display_data"
    }
   ],
   "source": [
    "#\n",
    "#  Create a new lake house\n",
    "#\n",
    "\n",
    "lh_name = \"lh_fabric_bites\"\n",
    "ws_name = \"ws-fabric-bites\"\n",
    "lh = fabric.create_lakehouse(display_name=lh_name, workspace=ws_name)\n"
   ]
  },
  {
   "cell_type": "code",
   "execution_count": null,
   "id": "06926aff-945b-4ab5-a30e-bfe31011bde0",
   "metadata": {
    "microsoft": {
     "language": "python",
     "language_group": "synapse_pyspark"
    }
   },
   "outputs": [
    {
     "data": {
      "application/vnd.livy.statement-meta+json": {
       "execution_finish_time": "2025-04-28T18:44:27.2003548Z",
       "execution_start_time": "2025-04-28T18:44:26.3286478Z",
       "livy_statement_state": "available",
       "normalized_state": "finished",
       "parent_msg_id": "fa30aaab-6d42-481d-ae6e-96a6ab062751",
       "queued_time": "2025-04-28T18:44:25.1437102Z",
       "session_id": "f6076c4f-bee7-41a4-8d31-91be404563e0",
       "session_start_time": null,
       "spark_pool": null,
       "state": "finished",
       "statement_id": 31,
       "statement_ids": [
        31
       ]
      },
      "text/plain": [
       "StatementMeta(, f6076c4f-bee7-41a4-8d31-91be404563e0, 31, Finished, Available, Finished)"
      ]
     },
     "metadata": {},
     "output_type": "display_data"
    },
    {
     "data": {
      "text/html": [
       "<div>\n",
       "<style scoped>\n",
       "    .dataframe tbody tr th:only-of-type {\n",
       "        vertical-align: middle;\n",
       "    }\n",
       "\n",
       "    .dataframe tbody tr th {\n",
       "        vertical-align: top;\n",
       "    }\n",
       "\n",
       "    .dataframe thead th {\n",
       "        text-align: right;\n",
       "    }\n",
       "</style>\n",
       "<table border=\"1\" class=\"dataframe\">\n",
       "  <thead>\n",
       "    <tr style=\"text-align: right;\">\n",
       "      <th></th>\n",
       "      <th>Lakehouse Name</th>\n",
       "      <th>Lakehouse ID</th>\n",
       "      <th>Description</th>\n",
       "      <th>OneLake Tables Path</th>\n",
       "      <th>OneLake Files Path</th>\n",
       "      <th>SQL Endpoint Connection String</th>\n",
       "      <th>SQL Endpoint ID</th>\n",
       "      <th>SQL Endpoint Provisioning Status</th>\n",
       "    </tr>\n",
       "  </thead>\n",
       "  <tbody>\n",
       "    <tr>\n",
       "      <th>0</th>\n",
       "      <td>lh_fabric_bits</td>\n",
       "      <td>11d131c8-f5c2-4f27-94ac-33fe0efbeeb9</td>\n",
       "      <td></td>\n",
       "      <td>https://onelake.dfs.fabric.microsoft.com/397a3...</td>\n",
       "      <td>https://onelake.dfs.fabric.microsoft.com/397a3...</td>\n",
       "      <td>abgrhetr4hsurajv2abiablt4q-k42huokbt27e7fwiym6...</td>\n",
       "      <td>ac2d4c47-6c1d-4990-9b1e-46f2ebf03b5b</td>\n",
       "      <td>Success</td>\n",
       "    </tr>\n",
       "    <tr>\n",
       "      <th>1</th>\n",
       "      <td>lh_fabric_bites</td>\n",
       "      <td>54fda1d3-0be2-48c3-be57-15994627fd3c</td>\n",
       "      <td></td>\n",
       "      <td>https://onelake.dfs.fabric.microsoft.com/397a3...</td>\n",
       "      <td>https://onelake.dfs.fabric.microsoft.com/397a3...</td>\n",
       "      <td>None</td>\n",
       "      <td>None</td>\n",
       "      <td>InProgress</td>\n",
       "    </tr>\n",
       "  </tbody>\n",
       "</table>\n",
       "</div>"
      ],
      "text/plain": [
       "    Lakehouse Name                          Lakehouse ID Description  \\\n",
       "0   lh_fabric_bits  11d131c8-f5c2-4f27-94ac-33fe0efbeeb9               \n",
       "1  lh_fabric_bites  54fda1d3-0be2-48c3-be57-15994627fd3c               \n",
       "\n",
       "                                 OneLake Tables Path  \\\n",
       "0  https://onelake.dfs.fabric.microsoft.com/397a3...   \n",
       "1  https://onelake.dfs.fabric.microsoft.com/397a3...   \n",
       "\n",
       "                                  OneLake Files Path  \\\n",
       "0  https://onelake.dfs.fabric.microsoft.com/397a3...   \n",
       "1  https://onelake.dfs.fabric.microsoft.com/397a3...   \n",
       "\n",
       "                      SQL Endpoint Connection String  \\\n",
       "0  abgrhetr4hsurajv2abiablt4q-k42huokbt27e7fwiym6...   \n",
       "1                                               None   \n",
       "\n",
       "                        SQL Endpoint ID SQL Endpoint Provisioning Status  \n",
       "0  ac2d4c47-6c1d-4990-9b1e-46f2ebf03b5b                          Success  \n",
       "1                                  None                       InProgress  "
      ]
     },
     "execution_count": 37,
     "metadata": {},
     "output_type": "execute_result"
    }
   ],
   "source": [
    "#\n",
    "#  List lakehouses\n",
    "#\n",
    "\n",
    "# get df\n",
    "df_lakehouse_list = labs.list_lakehouses('ws-fabric-bites')\n",
    "\n",
    "# show df\n",
    "df_lakehouse_list"
   ]
  },
  {
   "cell_type": "code",
   "execution_count": null,
   "id": "d62ff541-2b74-41cc-aaba-3c34aafee6a0",
   "metadata": {
    "microsoft": {
     "language": "python",
     "language_group": "synapse_pyspark"
    }
   },
   "outputs": [
    {
     "data": {
      "application/vnd.livy.statement-meta+json": {
       "execution_finish_time": "2025-04-28T18:51:15.1506276Z",
       "execution_start_time": "2025-04-28T18:51:14.2235185Z",
       "livy_statement_state": "available",
       "normalized_state": "finished",
       "parent_msg_id": "aceabd42-d2c1-4570-9a29-40c7b63dd171",
       "queued_time": "2025-04-28T18:51:14.2222966Z",
       "session_id": "f6076c4f-bee7-41a4-8d31-91be404563e0",
       "session_start_time": null,
       "spark_pool": null,
       "state": "finished",
       "statement_id": 43,
       "statement_ids": [
        43
       ]
      },
      "text/plain": [
       "StatementMeta(, f6076c4f-bee7-41a4-8d31-91be404563e0, 43, Finished, Available, Finished)"
      ]
     },
     "metadata": {},
     "output_type": "display_data"
    },
    {
     "name": "stdout",
     "output_type": "stream",
     "text": [
      "lh_fabric_bits\n",
      "11d131c8-f5c2-4f27-94ac-33fe0efbeeb9\n",
      "397a3457-9e41-4fbe-96c8-c33c3659bd61\n"
     ]
    }
   ],
   "source": [
    "#\n",
    "#  Remove unwanted lakehouse\n",
    "#\n",
    "\n",
    "lh_name = df_lakehouse_list.iloc[0][\"Lakehouse Name\"]\n",
    "print(lh_name)\n",
    "\n",
    "lh_id = df_lakehouse_list.iloc[0][\"Lakehouse ID\"]\n",
    "print(lh_id)\n",
    "\n",
    "# full list\n",
    "df_wkspc = labs.admin.list_workspaces()\n",
    "wh_id = df_wkspc[df_wkspc['Name'] == 'ws-fabric-bites'].iloc[0][\"Id\"]\n",
    "print(wh_id)\n",
    "\n",
    "# remove lakehouse\n",
    "fabric.delete_item(item_id=lh_id, workspace=wh_id)\n"
   ]
  },
  {
   "cell_type": "code",
   "execution_count": null,
   "id": "1b511f36-dcab-4db3-aaf0-c4775b6271d0",
   "metadata": {
    "microsoft": {
     "language": "python",
     "language_group": "synapse_pyspark"
    }
   },
   "outputs": [
    {
     "data": {
      "application/vnd.livy.statement-meta+json": {
       "execution_finish_time": "2025-04-28T18:51:27.3653307Z",
       "execution_start_time": "2025-04-28T18:51:26.5619025Z",
       "livy_statement_state": "available",
       "normalized_state": "finished",
       "parent_msg_id": "9350465e-be7b-4ec3-8396-174108fb39c9",
       "queued_time": "2025-04-28T18:51:26.5607144Z",
       "session_id": "f6076c4f-bee7-41a4-8d31-91be404563e0",
       "session_start_time": null,
       "spark_pool": null,
       "state": "finished",
       "statement_id": 44,
       "statement_ids": [
        44
       ]
      },
      "text/plain": [
       "StatementMeta(, f6076c4f-bee7-41a4-8d31-91be404563e0, 44, Finished, Available, Finished)"
      ]
     },
     "metadata": {},
     "output_type": "display_data"
    },
    {
     "data": {
      "text/html": [
       "<div>\n",
       "<style scoped>\n",
       "    .dataframe tbody tr th:only-of-type {\n",
       "        vertical-align: middle;\n",
       "    }\n",
       "\n",
       "    .dataframe tbody tr th {\n",
       "        vertical-align: top;\n",
       "    }\n",
       "\n",
       "    .dataframe thead th {\n",
       "        text-align: right;\n",
       "    }\n",
       "</style>\n",
       "<table border=\"1\" class=\"dataframe\">\n",
       "  <thead>\n",
       "    <tr style=\"text-align: right;\">\n",
       "      <th></th>\n",
       "      <th>Lakehouse Name</th>\n",
       "      <th>Lakehouse ID</th>\n",
       "      <th>Description</th>\n",
       "      <th>OneLake Tables Path</th>\n",
       "      <th>OneLake Files Path</th>\n",
       "      <th>SQL Endpoint Connection String</th>\n",
       "      <th>SQL Endpoint ID</th>\n",
       "      <th>SQL Endpoint Provisioning Status</th>\n",
       "    </tr>\n",
       "  </thead>\n",
       "  <tbody>\n",
       "    <tr>\n",
       "      <th>0</th>\n",
       "      <td>lh_fabric_bites</td>\n",
       "      <td>54fda1d3-0be2-48c3-be57-15994627fd3c</td>\n",
       "      <td></td>\n",
       "      <td>https://onelake.dfs.fabric.microsoft.com/397a3...</td>\n",
       "      <td>https://onelake.dfs.fabric.microsoft.com/397a3...</td>\n",
       "      <td>abgrhetr4hsurajv2abiablt4q-k42huokbt27e7fwiym6...</td>\n",
       "      <td>18b2564e-57f2-45fc-a81c-52746d577558</td>\n",
       "      <td>Success</td>\n",
       "    </tr>\n",
       "  </tbody>\n",
       "</table>\n",
       "</div>"
      ],
      "text/plain": [
       "    Lakehouse Name                          Lakehouse ID Description  \\\n",
       "0  lh_fabric_bites  54fda1d3-0be2-48c3-be57-15994627fd3c               \n",
       "\n",
       "                                 OneLake Tables Path  \\\n",
       "0  https://onelake.dfs.fabric.microsoft.com/397a3...   \n",
       "\n",
       "                                  OneLake Files Path  \\\n",
       "0  https://onelake.dfs.fabric.microsoft.com/397a3...   \n",
       "\n",
       "                      SQL Endpoint Connection String  \\\n",
       "0  abgrhetr4hsurajv2abiablt4q-k42huokbt27e7fwiym6...   \n",
       "\n",
       "                        SQL Endpoint ID SQL Endpoint Provisioning Status  \n",
       "0  18b2564e-57f2-45fc-a81c-52746d577558                          Success  "
      ]
     },
     "execution_count": 76,
     "metadata": {},
     "output_type": "execute_result"
    }
   ],
   "source": [
    "#\n",
    "#  List lakehouses\n",
    "#\n",
    "\n",
    "# get df\n",
    "df_lakehouse_list = labs.list_lakehouses('ws-fabric-bites')\n",
    "\n",
    "# show df\n",
    "df_lakehouse_list"
   ]
  },
  {
   "cell_type": "code",
   "execution_count": 6,
   "id": "0b278293-892d-4bdc-aeed-d962f64fc36d",
   "metadata": {
    "microsoft": {
     "language": "python",
     "language_group": "synapse_pyspark"
    }
   },
   "outputs": [
    {
     "data": {
      "application/vnd.livy.statement-meta+json": {
       "execution_finish_time": "2025-04-28T19:03:27.1940835Z",
       "execution_start_time": "2025-04-28T19:03:26.7793283Z",
       "livy_statement_state": "available",
       "normalized_state": "finished",
       "parent_msg_id": "f3fac97d-e634-40e9-817d-fdf22d471639",
       "queued_time": "2025-04-28T19:03:26.778243Z",
       "session_id": "e9aac578-4c4b-470d-9b8b-51157f75824e",
       "session_start_time": null,
       "spark_pool": null,
       "state": "finished",
       "statement_id": 18,
       "statement_ids": [
        18
       ]
      },
      "text/plain": [
       "StatementMeta(, e9aac578-4c4b-470d-9b8b-51157f75824e, 18, Finished, Available, Finished)"
      ]
     },
     "metadata": {},
     "output_type": "display_data"
    },
    {
     "name": "stdout",
     "output_type": "stream",
     "text": [
      "37a264ac-861c-4d8b-b619-05c7e99ded93\n"
     ]
    }
   ],
   "source": [
    "#\n",
    "#  Get lakehouse id (lh_aviation_tracker is attached)\n",
    "#\n",
    "\n",
    "# grab + show lakehouse id\n",
    "lh_id = fabric.get_lakehouse_id() \n",
    "print(lh_id)"
   ]
  },
  {
   "cell_type": "code",
   "execution_count": 5,
   "id": "86382ae5-69c1-42ff-9572-119614577513",
   "metadata": {
    "microsoft": {
     "language": "python",
     "language_group": "synapse_pyspark"
    }
   },
   "outputs": [
    {
     "data": {
      "application/vnd.livy.statement-meta+json": {
       "execution_finish_time": "2025-04-29T14:07:50.028984Z",
       "execution_start_time": "2025-04-29T14:07:46.3690275Z",
       "livy_statement_state": "available",
       "normalized_state": "finished",
       "parent_msg_id": "6f9d1ca4-01f2-4254-bbf3-1c4216b803ae",
       "queued_time": "2025-04-29T14:07:46.3677657Z",
       "session_id": "a8f0d8e4-ea14-4628-8b98-f028b0350913",
       "session_start_time": null,
       "spark_pool": null,
       "state": "finished",
       "statement_id": 17,
       "statement_ids": [
        17
       ]
      },
      "text/plain": [
       "StatementMeta(, a8f0d8e4-ea14-4628-8b98-f028b0350913, 17, Finished, Available, Finished)"
      ]
     },
     "metadata": {},
     "output_type": "display_data"
    },
    {
     "data": {
      "text/html": [
       "<div>\n",
       "<style scoped>\n",
       "    .dataframe tbody tr th:only-of-type {\n",
       "        vertical-align: middle;\n",
       "    }\n",
       "\n",
       "    .dataframe tbody tr th {\n",
       "        vertical-align: top;\n",
       "    }\n",
       "\n",
       "    .dataframe thead th {\n",
       "        text-align: right;\n",
       "    }\n",
       "</style>\n",
       "<table border=\"1\" class=\"dataframe\">\n",
       "  <thead>\n",
       "    <tr style=\"text-align: right;\">\n",
       "      <th></th>\n",
       "      <th>Workspace Name</th>\n",
       "      <th>Lakehouse Name</th>\n",
       "      <th>Table Name</th>\n",
       "      <th>Format</th>\n",
       "      <th>Type</th>\n",
       "      <th>Location</th>\n",
       "    </tr>\n",
       "  </thead>\n",
       "  <tbody>\n",
       "    <tr>\n",
       "      <th>0</th>\n",
       "      <td>ws-aviation-tracker</td>\n",
       "      <td>lh_aviation_tracker</td>\n",
       "      <td>bronze_airline_info</td>\n",
       "      <td>delta</td>\n",
       "      <td>Managed</td>\n",
       "      <td>abfss://8742d3fd-917c-4983-b173-bd50df60c9f3@o...</td>\n",
       "    </tr>\n",
       "    <tr>\n",
       "      <th>1</th>\n",
       "      <td>ws-aviation-tracker</td>\n",
       "      <td>lh_aviation_tracker</td>\n",
       "      <td>bronze_plane_info</td>\n",
       "      <td>delta</td>\n",
       "      <td>Managed</td>\n",
       "      <td>abfss://8742d3fd-917c-4983-b173-bd50df60c9f3@o...</td>\n",
       "    </tr>\n",
       "    <tr>\n",
       "      <th>2</th>\n",
       "      <td>ws-aviation-tracker</td>\n",
       "      <td>lh_aviation_tracker</td>\n",
       "      <td>bronze_airport_info</td>\n",
       "      <td>delta</td>\n",
       "      <td>Managed</td>\n",
       "      <td>abfss://8742d3fd-917c-4983-b173-bd50df60c9f3@o...</td>\n",
       "    </tr>\n",
       "    <tr>\n",
       "      <th>3</th>\n",
       "      <td>ws-aviation-tracker</td>\n",
       "      <td>lh_aviation_tracker</td>\n",
       "      <td>bronze_flight_info</td>\n",
       "      <td>delta</td>\n",
       "      <td>Managed</td>\n",
       "      <td>abfss://8742d3fd-917c-4983-b173-bd50df60c9f3@o...</td>\n",
       "    </tr>\n",
       "  </tbody>\n",
       "</table>\n",
       "</div>"
      ],
      "text/plain": [
       "        Workspace Name       Lakehouse Name           Table Name Format  \\\n",
       "0  ws-aviation-tracker  lh_aviation_tracker  bronze_airline_info  delta   \n",
       "1  ws-aviation-tracker  lh_aviation_tracker    bronze_plane_info  delta   \n",
       "2  ws-aviation-tracker  lh_aviation_tracker  bronze_airport_info  delta   \n",
       "3  ws-aviation-tracker  lh_aviation_tracker   bronze_flight_info  delta   \n",
       "\n",
       "      Type                                           Location  \n",
       "0  Managed  abfss://8742d3fd-917c-4983-b173-bd50df60c9f3@o...  \n",
       "1  Managed  abfss://8742d3fd-917c-4983-b173-bd50df60c9f3@o...  \n",
       "2  Managed  abfss://8742d3fd-917c-4983-b173-bd50df60c9f3@o...  \n",
       "3  Managed  abfss://8742d3fd-917c-4983-b173-bd50df60c9f3@o...  "
      ]
     },
     "execution_count": 10,
     "metadata": {},
     "output_type": "execute_result"
    }
   ],
   "source": [
    "#\n",
    "#  List tables in lakehouse (short)\n",
    "#\n",
    "\n",
    "df_table_lst_short = labs.lakehouse.get_lakehouse_tables(workspace='ws-aviation-tracker', lakehouse='lh_aviation_tracker')\n",
    "df_table_lst_short"
   ]
  },
  {
   "cell_type": "code",
   "execution_count": 6,
   "id": "78c6ce7b-0a0c-4e90-bfe4-586741471148",
   "metadata": {
    "microsoft": {
     "language": "python",
     "language_group": "synapse_pyspark"
    }
   },
   "outputs": [
    {
     "data": {
      "application/vnd.livy.statement-meta+json": {
       "execution_finish_time": "2025-04-29T14:08:14.0897511Z",
       "execution_start_time": "2025-04-29T14:08:02.0357602Z",
       "livy_statement_state": "available",
       "normalized_state": "finished",
       "parent_msg_id": "8ec499ce-1204-4ce9-90fb-9b327fbc394d",
       "queued_time": "2025-04-29T14:08:02.0345736Z",
       "session_id": "a8f0d8e4-ea14-4628-8b98-f028b0350913",
       "session_start_time": null,
       "spark_pool": null,
       "state": "finished",
       "statement_id": 18,
       "statement_ids": [
        18
       ]
      },
      "text/plain": [
       "StatementMeta(, a8f0d8e4-ea14-4628-8b98-f028b0350913, 18, Finished, Available, Finished)"
      ]
     },
     "metadata": {},
     "output_type": "display_data"
    },
    {
     "data": {
      "text/html": [
       "<div>\n",
       "<style scoped>\n",
       "    .dataframe tbody tr th:only-of-type {\n",
       "        vertical-align: middle;\n",
       "    }\n",
       "\n",
       "    .dataframe tbody tr th {\n",
       "        vertical-align: top;\n",
       "    }\n",
       "\n",
       "    .dataframe thead th {\n",
       "        text-align: right;\n",
       "    }\n",
       "</style>\n",
       "<table border=\"1\" class=\"dataframe\">\n",
       "  <thead>\n",
       "    <tr style=\"text-align: right;\">\n",
       "      <th></th>\n",
       "      <th>Workspace Name</th>\n",
       "      <th>Lakehouse Name</th>\n",
       "      <th>Table Name</th>\n",
       "      <th>Column Name</th>\n",
       "      <th>Full Column Name</th>\n",
       "      <th>Data Type</th>\n",
       "    </tr>\n",
       "  </thead>\n",
       "  <tbody>\n",
       "    <tr>\n",
       "      <th>0</th>\n",
       "      <td>ws-aviation-tracker</td>\n",
       "      <td>lh_aviation_tracker</td>\n",
       "      <td>bronze_airline_info</td>\n",
       "      <td>iata</td>\n",
       "      <td>'bronze_airline_info'[iata]</td>\n",
       "      <td>string</td>\n",
       "    </tr>\n",
       "    <tr>\n",
       "      <th>1</th>\n",
       "      <td>ws-aviation-tracker</td>\n",
       "      <td>lh_aviation_tracker</td>\n",
       "      <td>bronze_airline_info</td>\n",
       "      <td>icao</td>\n",
       "      <td>'bronze_airline_info'[icao]</td>\n",
       "      <td>string</td>\n",
       "    </tr>\n",
       "    <tr>\n",
       "      <th>2</th>\n",
       "      <td>ws-aviation-tracker</td>\n",
       "      <td>lh_aviation_tracker</td>\n",
       "      <td>bronze_airline_info</td>\n",
       "      <td>airline</td>\n",
       "      <td>'bronze_airline_info'[airline]</td>\n",
       "      <td>string</td>\n",
       "    </tr>\n",
       "    <tr>\n",
       "      <th>3</th>\n",
       "      <td>ws-aviation-tracker</td>\n",
       "      <td>lh_aviation_tracker</td>\n",
       "      <td>bronze_airline_info</td>\n",
       "      <td>call_sign</td>\n",
       "      <td>'bronze_airline_info'[call_sign]</td>\n",
       "      <td>string</td>\n",
       "    </tr>\n",
       "    <tr>\n",
       "      <th>4</th>\n",
       "      <td>ws-aviation-tracker</td>\n",
       "      <td>lh_aviation_tracker</td>\n",
       "      <td>bronze_airline_info</td>\n",
       "      <td>country_region</td>\n",
       "      <td>'bronze_airline_info'[country_region]</td>\n",
       "      <td>string</td>\n",
       "    </tr>\n",
       "    <tr>\n",
       "      <th>...</th>\n",
       "      <td>...</td>\n",
       "      <td>...</td>\n",
       "      <td>...</td>\n",
       "      <td>...</td>\n",
       "      <td>...</td>\n",
       "      <td>...</td>\n",
       "    </tr>\n",
       "    <tr>\n",
       "      <th>61</th>\n",
       "      <td>ws-aviation-tracker</td>\n",
       "      <td>lh_aviation_tracker</td>\n",
       "      <td>bronze_flight_info</td>\n",
       "      <td>destination_code_lid</td>\n",
       "      <td>'bronze_flight_info'[destination_code_lid]</td>\n",
       "      <td>string</td>\n",
       "    </tr>\n",
       "    <tr>\n",
       "      <th>62</th>\n",
       "      <td>ws-aviation-tracker</td>\n",
       "      <td>lh_aviation_tracker</td>\n",
       "      <td>bronze_flight_info</td>\n",
       "      <td>_load_date</td>\n",
       "      <td>'bronze_flight_info'[_load_date]</td>\n",
       "      <td>timestamp</td>\n",
       "    </tr>\n",
       "    <tr>\n",
       "      <th>63</th>\n",
       "      <td>ws-aviation-tracker</td>\n",
       "      <td>lh_aviation_tracker</td>\n",
       "      <td>bronze_flight_info</td>\n",
       "      <td>_folder_path</td>\n",
       "      <td>'bronze_flight_info'[_folder_path]</td>\n",
       "      <td>string</td>\n",
       "    </tr>\n",
       "    <tr>\n",
       "      <th>64</th>\n",
       "      <td>ws-aviation-tracker</td>\n",
       "      <td>lh_aviation_tracker</td>\n",
       "      <td>bronze_flight_info</td>\n",
       "      <td>_folder_date</td>\n",
       "      <td>'bronze_flight_info'[_folder_date]</td>\n",
       "      <td>string</td>\n",
       "    </tr>\n",
       "    <tr>\n",
       "      <th>65</th>\n",
       "      <td>ws-aviation-tracker</td>\n",
       "      <td>lh_aviation_tracker</td>\n",
       "      <td>bronze_flight_info</td>\n",
       "      <td>_file_name</td>\n",
       "      <td>'bronze_flight_info'[_file_name]</td>\n",
       "      <td>string</td>\n",
       "    </tr>\n",
       "  </tbody>\n",
       "</table>\n",
       "<p>66 rows × 6 columns</p>\n",
       "</div>"
      ],
      "text/plain": [
       "         Workspace Name       Lakehouse Name           Table Name  \\\n",
       "0   ws-aviation-tracker  lh_aviation_tracker  bronze_airline_info   \n",
       "1   ws-aviation-tracker  lh_aviation_tracker  bronze_airline_info   \n",
       "2   ws-aviation-tracker  lh_aviation_tracker  bronze_airline_info   \n",
       "3   ws-aviation-tracker  lh_aviation_tracker  bronze_airline_info   \n",
       "4   ws-aviation-tracker  lh_aviation_tracker  bronze_airline_info   \n",
       "..                  ...                  ...                  ...   \n",
       "61  ws-aviation-tracker  lh_aviation_tracker   bronze_flight_info   \n",
       "62  ws-aviation-tracker  lh_aviation_tracker   bronze_flight_info   \n",
       "63  ws-aviation-tracker  lh_aviation_tracker   bronze_flight_info   \n",
       "64  ws-aviation-tracker  lh_aviation_tracker   bronze_flight_info   \n",
       "65  ws-aviation-tracker  lh_aviation_tracker   bronze_flight_info   \n",
       "\n",
       "             Column Name                            Full Column Name  \\\n",
       "0                   iata                 'bronze_airline_info'[iata]   \n",
       "1                   icao                 'bronze_airline_info'[icao]   \n",
       "2                airline              'bronze_airline_info'[airline]   \n",
       "3              call_sign            'bronze_airline_info'[call_sign]   \n",
       "4         country_region       'bronze_airline_info'[country_region]   \n",
       "..                   ...                                         ...   \n",
       "61  destination_code_lid  'bronze_flight_info'[destination_code_lid]   \n",
       "62            _load_date            'bronze_flight_info'[_load_date]   \n",
       "63          _folder_path          'bronze_flight_info'[_folder_path]   \n",
       "64          _folder_date          'bronze_flight_info'[_folder_date]   \n",
       "65            _file_name            'bronze_flight_info'[_file_name]   \n",
       "\n",
       "    Data Type  \n",
       "0      string  \n",
       "1      string  \n",
       "2      string  \n",
       "3      string  \n",
       "4      string  \n",
       "..        ...  \n",
       "61     string  \n",
       "62  timestamp  \n",
       "63     string  \n",
       "64     string  \n",
       "65     string  \n",
       "\n",
       "[66 rows x 6 columns]"
      ]
     },
     "execution_count": 13,
     "metadata": {},
     "output_type": "execute_result"
    }
   ],
   "source": [
    "#\n",
    "#  List tables in lakehouse (long)\n",
    "#\n",
    "\n",
    "df_table_lst_long = cols_lst = labs.lakehouse.get_lakehouse_columns(workspace='ws-aviation-tracker', lakehouse='lh_aviation_tracker')\n",
    "df_table_lst_long"
   ]
  },
  {
   "cell_type": "code",
   "execution_count": null,
   "id": "dc528881-e49d-4a20-b23d-95e37cfca219",
   "metadata": {
    "microsoft": {
     "language": "python",
     "language_group": "synapse_pyspark"
    }
   },
   "outputs": [
    {
     "data": {
      "application/vnd.livy.statement-meta+json": {
       "execution_finish_time": "2025-04-29T15:09:14.5391656Z",
       "execution_start_time": "2025-04-29T15:09:14.0792083Z",
       "livy_statement_state": "available",
       "normalized_state": "finished",
       "parent_msg_id": "b874f58e-87b0-49bd-a026-b627d1f42b7c",
       "queued_time": "2025-04-29T15:09:14.0782965Z",
       "session_id": "d557c60a-a9a6-4f98-9a58-3e5a0851a938",
       "session_start_time": null,
       "spark_pool": null,
       "state": "finished",
       "statement_id": 18,
       "statement_ids": [
        18
       ]
      },
      "text/plain": [
       "StatementMeta(, d557c60a-a9a6-4f98-9a58-3e5a0851a938, 18, Finished, Available, Finished)"
      ]
     },
     "metadata": {},
     "output_type": "display_data"
    },
    {
     "ename": "AttributeError",
     "evalue": "Attribute does not exist",
     "output_type": "error",
     "traceback": [
      "\u001b[0;31m---------------------------------------------------------------------------\u001b[0m",
      "\u001b[0;31mAttributeError\u001b[0m                            Traceback (most recent call last)",
      "Cell \u001b[0;32mIn[13], line 5\u001b[0m\n\u001b[1;32m      1\u001b[0m \u001b[38;5;66;03m#\u001b[39;00m\n\u001b[1;32m      2\u001b[0m \u001b[38;5;66;03m#  Is v-ordering on?\u001b[39;00m\n\u001b[1;32m      3\u001b[0m \u001b[38;5;66;03m#\u001b[39;00m\n\u001b[0;32m----> 5\u001b[0m vordered_flag \u001b[38;5;241m=\u001b[39m labs\u001b[38;5;241m.\u001b[39mlakehouse\u001b[38;5;241m.\u001b[39mis_v_ordered(workspace\u001b[38;5;241m=\u001b[39m\u001b[38;5;124m'\u001b[39m\u001b[38;5;124mws-aviation-tracker\u001b[39m\u001b[38;5;124m'\u001b[39m, lakehouse\u001b[38;5;241m=\u001b[39m\u001b[38;5;124m'\u001b[39m\u001b[38;5;124mlh_aviation_tracker\u001b[39m\u001b[38;5;124m'\u001b[39m, table_name\u001b[38;5;241m=\u001b[39m\u001b[38;5;124m'\u001b[39m\u001b[38;5;124mbronze_airline_info\u001b[39m\u001b[38;5;124m'\u001b[39m)\n\u001b[1;32m      6\u001b[0m vordered_flag\n",
      "File \u001b[0;32m~/cluster-env/trident_env/lib/python3.11/site-packages/synapse/ml/fabric/prerun/usage_telemetry_prerun.py:137\u001b[0m, in \u001b[0;36mModuleSpecHook.modify_spec.<locals>.__getattr__\u001b[0;34m(name)\u001b[0m\n\u001b[1;32m    135\u001b[0m \u001b[38;5;28;01melse\u001b[39;00m:\n\u001b[1;32m    136\u001b[0m     \u001b[38;5;28;01mif\u001b[39;00m name \u001b[38;5;129;01mnot\u001b[39;00m \u001b[38;5;129;01min\u001b[39;00m \u001b[38;5;28mvars\u001b[39m(module):\n\u001b[0;32m--> 137\u001b[0m         \u001b[38;5;28;01mraise\u001b[39;00m \u001b[38;5;167;01mAttributeError\u001b[39;00m(\u001b[38;5;124m'\u001b[39m\u001b[38;5;124mAttribute does not exist\u001b[39m\u001b[38;5;124m'\u001b[39m)\n\u001b[1;32m    138\u001b[0m     \u001b[38;5;28;01mreturn\u001b[39;00m \u001b[38;5;28mgetattr\u001b[39m(module, name)\n",
      "\u001b[0;31mAttributeError\u001b[0m: Attribute does not exist"
     ]
    }
   ],
   "source": [
    "#\n",
    "#  Is v-ordering on?  (beta code - why in docs)\n",
    "#\n",
    "\n",
    "vordered_flag = labs.lakehouse.is_v_ordered(workspace='ws-aviation-tracker', lakehouse='lh_aviation_tracker', table_name='bronze_airline_info')\n",
    "vordered_flag"
   ]
  },
  {
   "cell_type": "code",
   "execution_count": 24,
   "id": "f67d78b3-c193-47a9-8076-89e3c1e0d6da",
   "metadata": {
    "microsoft": {
     "language": "python",
     "language_group": "synapse_pyspark"
    }
   },
   "outputs": [
    {
     "data": {
      "application/vnd.livy.statement-meta+json": {
       "execution_finish_time": "2025-04-29T14:27:30.580317Z",
       "execution_start_time": "2025-04-29T14:27:27.7281831Z",
       "livy_statement_state": "available",
       "normalized_state": "finished",
       "parent_msg_id": "ad669bdb-be88-4c10-b573-37ff2a4812a4",
       "queued_time": "2025-04-29T14:27:27.7271905Z",
       "session_id": "9f1218d2-9b19-486a-9548-62bbb49ee0e7",
       "session_start_time": null,
       "spark_pool": null,
       "state": "finished",
       "statement_id": 36,
       "statement_ids": [
        36
       ]
      },
      "text/plain": [
       "StatementMeta(, 9f1218d2-9b19-486a-9548-62bbb49ee0e7, 36, Finished, Available, Finished)"
      ]
     },
     "metadata": {},
     "output_type": "display_data"
    },
    {
     "data": {
      "text/html": [
       "<div>\n",
       "<style scoped>\n",
       "    .dataframe tbody tr th:only-of-type {\n",
       "        vertical-align: middle;\n",
       "    }\n",
       "\n",
       "    .dataframe tbody tr th {\n",
       "        vertical-align: top;\n",
       "    }\n",
       "\n",
       "    .dataframe thead th {\n",
       "        text-align: right;\n",
       "    }\n",
       "</style>\n",
       "<table border=\"1\" class=\"dataframe\">\n",
       "  <thead>\n",
       "    <tr style=\"text-align: right;\">\n",
       "      <th></th>\n",
       "      <th>Blob Name</th>\n",
       "      <th>Is Deleted</th>\n",
       "      <th>Deletion Id</th>\n",
       "      <th>Creation Time</th>\n",
       "      <th>Expiry Time</th>\n",
       "      <th>Etag</th>\n",
       "      <th>Resource Type</th>\n",
       "      <th>Content Length</th>\n",
       "      <th>Content Type</th>\n",
       "      <th>Content Encoding</th>\n",
       "      <th>...</th>\n",
       "      <th>Content CRC64</th>\n",
       "      <th>Content MD5</th>\n",
       "      <th>Cache Control</th>\n",
       "      <th>Content Disposition</th>\n",
       "      <th>Blob Type</th>\n",
       "      <th>Access Tier</th>\n",
       "      <th>Access Tier Inferred</th>\n",
       "      <th>Server Encrypted</th>\n",
       "      <th>Deleted Time</th>\n",
       "      <th>Remaining Retention Days</th>\n",
       "    </tr>\n",
       "  </thead>\n",
       "  <tbody>\n",
       "    <tr>\n",
       "      <th>0</th>\n",
       "      <td>37a264ac-861c-4d8b-b619-05c7e99ded93</td>\n",
       "      <td>False</td>\n",
       "      <td>None</td>\n",
       "      <td>2024-09-11 19:06:22</td>\n",
       "      <td>NaT</td>\n",
       "      <td>0x8DCD294D39AF6CC</td>\n",
       "      <td>directory</td>\n",
       "      <td>0</td>\n",
       "      <td>text/plain; charset=utf-8</td>\n",
       "      <td>None</td>\n",
       "      <td>...</td>\n",
       "      <td>AAAAAAAAAAA=</td>\n",
       "      <td>None</td>\n",
       "      <td>None</td>\n",
       "      <td>None</td>\n",
       "      <td>BlockBlob</td>\n",
       "      <td>Hot</td>\n",
       "      <td>true</td>\n",
       "      <td>True</td>\n",
       "      <td>None</td>\n",
       "      <td>None</td>\n",
       "    </tr>\n",
       "    <tr>\n",
       "      <th>1</th>\n",
       "      <td>37a264ac-861c-4d8b-b619-05c7e99ded93/Files</td>\n",
       "      <td>False</td>\n",
       "      <td>None</td>\n",
       "      <td>2024-09-11 19:06:22</td>\n",
       "      <td>NaT</td>\n",
       "      <td>0x8DCD294D39FDDB4</td>\n",
       "      <td>directory</td>\n",
       "      <td>0</td>\n",
       "      <td>text/plain; charset=utf-8</td>\n",
       "      <td>None</td>\n",
       "      <td>...</td>\n",
       "      <td>AAAAAAAAAAA=</td>\n",
       "      <td>None</td>\n",
       "      <td>None</td>\n",
       "      <td>None</td>\n",
       "      <td>BlockBlob</td>\n",
       "      <td>Hot</td>\n",
       "      <td>true</td>\n",
       "      <td>True</td>\n",
       "      <td>None</td>\n",
       "      <td>None</td>\n",
       "    </tr>\n",
       "    <tr>\n",
       "      <th>2</th>\n",
       "      <td>37a264ac-861c-4d8b-b619-05c7e99ded93/Files/air...</td>\n",
       "      <td>False</td>\n",
       "      <td>None</td>\n",
       "      <td>2024-10-15 16:26:51</td>\n",
       "      <td>NaT</td>\n",
       "      <td>0x8DCED362CB3F300</td>\n",
       "      <td>directory</td>\n",
       "      <td>0</td>\n",
       "      <td>application/octet-stream</td>\n",
       "      <td>None</td>\n",
       "      <td>...</td>\n",
       "      <td>AAAAAAAAAAA=</td>\n",
       "      <td>None</td>\n",
       "      <td>None</td>\n",
       "      <td>None</td>\n",
       "      <td>BlockBlob</td>\n",
       "      <td>Hot</td>\n",
       "      <td>true</td>\n",
       "      <td>True</td>\n",
       "      <td>None</td>\n",
       "      <td>None</td>\n",
       "    </tr>\n",
       "    <tr>\n",
       "      <th>3</th>\n",
       "      <td>37a264ac-861c-4d8b-b619-05c7e99ded93/Files/air...</td>\n",
       "      <td>False</td>\n",
       "      <td>None</td>\n",
       "      <td>2024-10-15 16:26:53</td>\n",
       "      <td>NaT</td>\n",
       "      <td>0x8DCED362DDAF0B0</td>\n",
       "      <td>directory</td>\n",
       "      <td>0</td>\n",
       "      <td>None</td>\n",
       "      <td>None</td>\n",
       "      <td>...</td>\n",
       "      <td>None</td>\n",
       "      <td>None</td>\n",
       "      <td>None</td>\n",
       "      <td>None</td>\n",
       "      <td>BlockBlob</td>\n",
       "      <td>Hot</td>\n",
       "      <td>true</td>\n",
       "      <td>True</td>\n",
       "      <td>None</td>\n",
       "      <td>None</td>\n",
       "    </tr>\n",
       "    <tr>\n",
       "      <th>4</th>\n",
       "      <td>37a264ac-861c-4d8b-b619-05c7e99ded93/Files/air...</td>\n",
       "      <td>False</td>\n",
       "      <td>None</td>\n",
       "      <td>2024-10-15 16:26:54</td>\n",
       "      <td>NaT</td>\n",
       "      <td>0x8DCED362EA86FF0</td>\n",
       "      <td>file</td>\n",
       "      <td>0</td>\n",
       "      <td>application/octet-stream</td>\n",
       "      <td>None</td>\n",
       "      <td>...</td>\n",
       "      <td>AAAAAAAAAAA=</td>\n",
       "      <td>None</td>\n",
       "      <td>None</td>\n",
       "      <td>None</td>\n",
       "      <td>BlockBlob</td>\n",
       "      <td>Hot</td>\n",
       "      <td>true</td>\n",
       "      <td>True</td>\n",
       "      <td>None</td>\n",
       "      <td>None</td>\n",
       "    </tr>\n",
       "    <tr>\n",
       "      <th>...</th>\n",
       "      <td>...</td>\n",
       "      <td>...</td>\n",
       "      <td>...</td>\n",
       "      <td>...</td>\n",
       "      <td>...</td>\n",
       "      <td>...</td>\n",
       "      <td>...</td>\n",
       "      <td>...</td>\n",
       "      <td>...</td>\n",
       "      <td>...</td>\n",
       "      <td>...</td>\n",
       "      <td>...</td>\n",
       "      <td>...</td>\n",
       "      <td>...</td>\n",
       "      <td>...</td>\n",
       "      <td>...</td>\n",
       "      <td>...</td>\n",
       "      <td>...</td>\n",
       "      <td>...</td>\n",
       "      <td>...</td>\n",
       "      <td>...</td>\n",
       "    </tr>\n",
       "    <tr>\n",
       "      <th>125</th>\n",
       "      <td>37a264ac-861c-4d8b-b619-05c7e99ded93/Tables/br...</td>\n",
       "      <td>False</td>\n",
       "      <td>None</td>\n",
       "      <td>2024-10-15 16:41:32</td>\n",
       "      <td>NaT</td>\n",
       "      <td>0x8DCED3839F38C0C</td>\n",
       "      <td>directory</td>\n",
       "      <td>0</td>\n",
       "      <td>None</td>\n",
       "      <td>None</td>\n",
       "      <td>...</td>\n",
       "      <td>None</td>\n",
       "      <td>None</td>\n",
       "      <td>None</td>\n",
       "      <td>None</td>\n",
       "      <td>BlockBlob</td>\n",
       "      <td>Hot</td>\n",
       "      <td>true</td>\n",
       "      <td>True</td>\n",
       "      <td>None</td>\n",
       "      <td>None</td>\n",
       "    </tr>\n",
       "    <tr>\n",
       "      <th>126</th>\n",
       "      <td>37a264ac-861c-4d8b-b619-05c7e99ded93/Tables/br...</td>\n",
       "      <td>False</td>\n",
       "      <td>None</td>\n",
       "      <td>2024-10-15 16:41:32</td>\n",
       "      <td>NaT</td>\n",
       "      <td>0x8DCED3839F61FD0</td>\n",
       "      <td>directory</td>\n",
       "      <td>0</td>\n",
       "      <td>application/octet-stream</td>\n",
       "      <td>None</td>\n",
       "      <td>...</td>\n",
       "      <td>AAAAAAAAAAA=</td>\n",
       "      <td>None</td>\n",
       "      <td>None</td>\n",
       "      <td>None</td>\n",
       "      <td>BlockBlob</td>\n",
       "      <td>Hot</td>\n",
       "      <td>true</td>\n",
       "      <td>True</td>\n",
       "      <td>None</td>\n",
       "      <td>None</td>\n",
       "    </tr>\n",
       "    <tr>\n",
       "      <th>127</th>\n",
       "      <td>37a264ac-861c-4d8b-b619-05c7e99ded93/Tables/br...</td>\n",
       "      <td>False</td>\n",
       "      <td>None</td>\n",
       "      <td>2024-10-15 16:41:37</td>\n",
       "      <td>NaT</td>\n",
       "      <td>0x8DCED383CFDD218</td>\n",
       "      <td>file</td>\n",
       "      <td>2142</td>\n",
       "      <td>application/octet-stream</td>\n",
       "      <td>None</td>\n",
       "      <td>...</td>\n",
       "      <td>AAAAAAAAAAA=</td>\n",
       "      <td>None</td>\n",
       "      <td>None</td>\n",
       "      <td>None</td>\n",
       "      <td>BlockBlob</td>\n",
       "      <td>Hot</td>\n",
       "      <td>true</td>\n",
       "      <td>True</td>\n",
       "      <td>None</td>\n",
       "      <td>None</td>\n",
       "    </tr>\n",
       "    <tr>\n",
       "      <th>128</th>\n",
       "      <td>37a264ac-861c-4d8b-b619-05c7e99ded93/Tables/br...</td>\n",
       "      <td>False</td>\n",
       "      <td>None</td>\n",
       "      <td>2024-10-15 16:41:37</td>\n",
       "      <td>NaT</td>\n",
       "      <td>0x8DCED383CEE2AD4</td>\n",
       "      <td>directory</td>\n",
       "      <td>0</td>\n",
       "      <td>None</td>\n",
       "      <td>None</td>\n",
       "      <td>...</td>\n",
       "      <td>None</td>\n",
       "      <td>None</td>\n",
       "      <td>None</td>\n",
       "      <td>None</td>\n",
       "      <td>BlockBlob</td>\n",
       "      <td>Hot</td>\n",
       "      <td>true</td>\n",
       "      <td>True</td>\n",
       "      <td>None</td>\n",
       "      <td>None</td>\n",
       "    </tr>\n",
       "    <tr>\n",
       "      <th>129</th>\n",
       "      <td>37a264ac-861c-4d8b-b619-05c7e99ded93/Tables/br...</td>\n",
       "      <td>False</td>\n",
       "      <td>None</td>\n",
       "      <td>2024-10-15 16:41:36</td>\n",
       "      <td>NaT</td>\n",
       "      <td>0x8DCED383C2512C4</td>\n",
       "      <td>file</td>\n",
       "      <td>5261</td>\n",
       "      <td>application/octet-stream</td>\n",
       "      <td>None</td>\n",
       "      <td>...</td>\n",
       "      <td>AAAAAAAAAAA=</td>\n",
       "      <td>None</td>\n",
       "      <td>None</td>\n",
       "      <td>None</td>\n",
       "      <td>BlockBlob</td>\n",
       "      <td>Hot</td>\n",
       "      <td>true</td>\n",
       "      <td>True</td>\n",
       "      <td>None</td>\n",
       "      <td>None</td>\n",
       "    </tr>\n",
       "  </tbody>\n",
       "</table>\n",
       "<p>130 rows × 21 columns</p>\n",
       "</div>"
      ],
      "text/plain": [
       "                                             Blob Name  Is Deleted  \\\n",
       "0                 37a264ac-861c-4d8b-b619-05c7e99ded93       False   \n",
       "1           37a264ac-861c-4d8b-b619-05c7e99ded93/Files       False   \n",
       "2    37a264ac-861c-4d8b-b619-05c7e99ded93/Files/air...       False   \n",
       "3    37a264ac-861c-4d8b-b619-05c7e99ded93/Files/air...       False   \n",
       "4    37a264ac-861c-4d8b-b619-05c7e99ded93/Files/air...       False   \n",
       "..                                                 ...         ...   \n",
       "125  37a264ac-861c-4d8b-b619-05c7e99ded93/Tables/br...       False   \n",
       "126  37a264ac-861c-4d8b-b619-05c7e99ded93/Tables/br...       False   \n",
       "127  37a264ac-861c-4d8b-b619-05c7e99ded93/Tables/br...       False   \n",
       "128  37a264ac-861c-4d8b-b619-05c7e99ded93/Tables/br...       False   \n",
       "129  37a264ac-861c-4d8b-b619-05c7e99ded93/Tables/br...       False   \n",
       "\n",
       "    Deletion Id       Creation Time Expiry Time               Etag  \\\n",
       "0          None 2024-09-11 19:06:22         NaT  0x8DCD294D39AF6CC   \n",
       "1          None 2024-09-11 19:06:22         NaT  0x8DCD294D39FDDB4   \n",
       "2          None 2024-10-15 16:26:51         NaT  0x8DCED362CB3F300   \n",
       "3          None 2024-10-15 16:26:53         NaT  0x8DCED362DDAF0B0   \n",
       "4          None 2024-10-15 16:26:54         NaT  0x8DCED362EA86FF0   \n",
       "..          ...                 ...         ...                ...   \n",
       "125        None 2024-10-15 16:41:32         NaT  0x8DCED3839F38C0C   \n",
       "126        None 2024-10-15 16:41:32         NaT  0x8DCED3839F61FD0   \n",
       "127        None 2024-10-15 16:41:37         NaT  0x8DCED383CFDD218   \n",
       "128        None 2024-10-15 16:41:37         NaT  0x8DCED383CEE2AD4   \n",
       "129        None 2024-10-15 16:41:36         NaT  0x8DCED383C2512C4   \n",
       "\n",
       "    Resource Type  Content Length               Content Type Content Encoding  \\\n",
       "0       directory               0  text/plain; charset=utf-8             None   \n",
       "1       directory               0  text/plain; charset=utf-8             None   \n",
       "2       directory               0   application/octet-stream             None   \n",
       "3       directory               0                       None             None   \n",
       "4            file               0   application/octet-stream             None   \n",
       "..            ...             ...                        ...              ...   \n",
       "125     directory               0                       None             None   \n",
       "126     directory               0   application/octet-stream             None   \n",
       "127          file            2142   application/octet-stream             None   \n",
       "128     directory               0                       None             None   \n",
       "129          file            5261   application/octet-stream             None   \n",
       "\n",
       "     ... Content CRC64 Content MD5 Cache Control Content Disposition  \\\n",
       "0    ...  AAAAAAAAAAA=        None          None                None   \n",
       "1    ...  AAAAAAAAAAA=        None          None                None   \n",
       "2    ...  AAAAAAAAAAA=        None          None                None   \n",
       "3    ...          None        None          None                None   \n",
       "4    ...  AAAAAAAAAAA=        None          None                None   \n",
       "..   ...           ...         ...           ...                 ...   \n",
       "125  ...          None        None          None                None   \n",
       "126  ...  AAAAAAAAAAA=        None          None                None   \n",
       "127  ...  AAAAAAAAAAA=        None          None                None   \n",
       "128  ...          None        None          None                None   \n",
       "129  ...  AAAAAAAAAAA=        None          None                None   \n",
       "\n",
       "     Blob Type Access Tier Access Tier Inferred Server Encrypted  \\\n",
       "0    BlockBlob         Hot                 true             True   \n",
       "1    BlockBlob         Hot                 true             True   \n",
       "2    BlockBlob         Hot                 true             True   \n",
       "3    BlockBlob         Hot                 true             True   \n",
       "4    BlockBlob         Hot                 true             True   \n",
       "..         ...         ...                  ...              ...   \n",
       "125  BlockBlob         Hot                 true             True   \n",
       "126  BlockBlob         Hot                 true             True   \n",
       "127  BlockBlob         Hot                 true             True   \n",
       "128  BlockBlob         Hot                 true             True   \n",
       "129  BlockBlob         Hot                 true             True   \n",
       "\n",
       "     Deleted Time Remaining Retention Days  \n",
       "0            None                     None  \n",
       "1            None                     None  \n",
       "2            None                     None  \n",
       "3            None                     None  \n",
       "4            None                     None  \n",
       "..            ...                      ...  \n",
       "125          None                     None  \n",
       "126          None                     None  \n",
       "127          None                     None  \n",
       "128          None                     None  \n",
       "129          None                     None  \n",
       "\n",
       "[130 rows x 21 columns]"
      ]
     },
     "execution_count": 70,
     "metadata": {},
     "output_type": "execute_result"
    }
   ],
   "source": [
    "#\n",
    "#  List blobs\n",
    "#\n",
    "\n",
    "blobs_list = labs.lakehouse.list_blobs(workspace='ws-aviation-tracker', lakehouse='lh_aviation_tracker')\n",
    "blobs_list"
   ]
  },
  {
   "cell_type": "code",
   "execution_count": 25,
   "id": "d42059ea-b1fd-439a-adb3-f9d38b8093b3",
   "metadata": {
    "microsoft": {
     "language": "python",
     "language_group": "synapse_pyspark"
    }
   },
   "outputs": [
    {
     "data": {
      "application/vnd.livy.statement-meta+json": {
       "execution_finish_time": "2025-04-29T14:27:50.5581942Z",
       "execution_start_time": "2025-04-29T14:27:49.936425Z",
       "livy_statement_state": "available",
       "normalized_state": "finished",
       "parent_msg_id": "23babc2f-de34-4c70-a512-1fffb8f2c915",
       "queued_time": "2025-04-29T14:27:49.935385Z",
       "session_id": "9f1218d2-9b19-486a-9548-62bbb49ee0e7",
       "session_start_time": null,
       "spark_pool": null,
       "state": "finished",
       "statement_id": 37,
       "statement_ids": [
        37
       ]
      },
      "text/plain": [
       "StatementMeta(, 9f1218d2-9b19-486a-9548-62bbb49ee0e7, 37, Finished, Available, Finished)"
      ]
     },
     "metadata": {},
     "output_type": "display_data"
    },
    {
     "data": {
      "text/html": [
       "<div>\n",
       "<style scoped>\n",
       "    .dataframe tbody tr th:only-of-type {\n",
       "        vertical-align: middle;\n",
       "    }\n",
       "\n",
       "    .dataframe tbody tr th {\n",
       "        vertical-align: top;\n",
       "    }\n",
       "\n",
       "    .dataframe thead th {\n",
       "        text-align: right;\n",
       "    }\n",
       "</style>\n",
       "<table border=\"1\" class=\"dataframe\">\n",
       "  <thead>\n",
       "    <tr style=\"text-align: right;\">\n",
       "      <th></th>\n",
       "      <th>Blob Name</th>\n",
       "      <th>Is Deleted</th>\n",
       "      <th>Deletion Id</th>\n",
       "      <th>Creation Time</th>\n",
       "      <th>Expiry Time</th>\n",
       "      <th>Etag</th>\n",
       "      <th>Resource Type</th>\n",
       "      <th>Content Length</th>\n",
       "      <th>Content Type</th>\n",
       "      <th>Content Encoding</th>\n",
       "      <th>...</th>\n",
       "      <th>Content CRC64</th>\n",
       "      <th>Content MD5</th>\n",
       "      <th>Cache Control</th>\n",
       "      <th>Content Disposition</th>\n",
       "      <th>Blob Type</th>\n",
       "      <th>Access Tier</th>\n",
       "      <th>Access Tier Inferred</th>\n",
       "      <th>Server Encrypted</th>\n",
       "      <th>Deleted Time</th>\n",
       "      <th>Remaining Retention Days</th>\n",
       "    </tr>\n",
       "  </thead>\n",
       "  <tbody>\n",
       "    <tr>\n",
       "      <th>4</th>\n",
       "      <td>37a264ac-861c-4d8b-b619-05c7e99ded93/Files/air...</td>\n",
       "      <td>False</td>\n",
       "      <td>None</td>\n",
       "      <td>2024-10-15 16:26:54</td>\n",
       "      <td>NaT</td>\n",
       "      <td>0x8DCED362EA86FF0</td>\n",
       "      <td>file</td>\n",
       "      <td>0</td>\n",
       "      <td>application/octet-stream</td>\n",
       "      <td>None</td>\n",
       "      <td>...</td>\n",
       "      <td>AAAAAAAAAAA=</td>\n",
       "      <td>None</td>\n",
       "      <td>None</td>\n",
       "      <td>None</td>\n",
       "      <td>BlockBlob</td>\n",
       "      <td>Hot</td>\n",
       "      <td>true</td>\n",
       "      <td>True</td>\n",
       "      <td>None</td>\n",
       "      <td>None</td>\n",
       "    </tr>\n",
       "    <tr>\n",
       "      <th>5</th>\n",
       "      <td>37a264ac-861c-4d8b-b619-05c7e99ded93/Files/air...</td>\n",
       "      <td>False</td>\n",
       "      <td>None</td>\n",
       "      <td>2024-10-15 16:26:53</td>\n",
       "      <td>NaT</td>\n",
       "      <td>0x8DCED362E5583C4</td>\n",
       "      <td>file</td>\n",
       "      <td>103480</td>\n",
       "      <td>application/octet-stream</td>\n",
       "      <td>None</td>\n",
       "      <td>...</td>\n",
       "      <td>AAAAAAAAAAA=</td>\n",
       "      <td>None</td>\n",
       "      <td>None</td>\n",
       "      <td>None</td>\n",
       "      <td>BlockBlob</td>\n",
       "      <td>Hot</td>\n",
       "      <td>true</td>\n",
       "      <td>True</td>\n",
       "      <td>None</td>\n",
       "      <td>None</td>\n",
       "    </tr>\n",
       "    <tr>\n",
       "      <th>6</th>\n",
       "      <td>37a264ac-861c-4d8b-b619-05c7e99ded93/Files/air...</td>\n",
       "      <td>False</td>\n",
       "      <td>None</td>\n",
       "      <td>2024-10-15 16:26:53</td>\n",
       "      <td>NaT</td>\n",
       "      <td>0x8DCED362E47AA5C</td>\n",
       "      <td>file</td>\n",
       "      <td>103830</td>\n",
       "      <td>application/octet-stream</td>\n",
       "      <td>None</td>\n",
       "      <td>...</td>\n",
       "      <td>AAAAAAAAAAA=</td>\n",
       "      <td>None</td>\n",
       "      <td>None</td>\n",
       "      <td>None</td>\n",
       "      <td>BlockBlob</td>\n",
       "      <td>Hot</td>\n",
       "      <td>true</td>\n",
       "      <td>True</td>\n",
       "      <td>None</td>\n",
       "      <td>None</td>\n",
       "    </tr>\n",
       "    <tr>\n",
       "      <th>10</th>\n",
       "      <td>37a264ac-861c-4d8b-b619-05c7e99ded93/Files/air...</td>\n",
       "      <td>False</td>\n",
       "      <td>None</td>\n",
       "      <td>2024-10-15 16:32:37</td>\n",
       "      <td>NaT</td>\n",
       "      <td>0x8DCED36FAFBB0E8</td>\n",
       "      <td>file</td>\n",
       "      <td>2441</td>\n",
       "      <td>application/octet-stream</td>\n",
       "      <td>None</td>\n",
       "      <td>...</td>\n",
       "      <td>AAAAAAAAAAA=</td>\n",
       "      <td>None</td>\n",
       "      <td>None</td>\n",
       "      <td>None</td>\n",
       "      <td>BlockBlob</td>\n",
       "      <td>Hot</td>\n",
       "      <td>true</td>\n",
       "      <td>True</td>\n",
       "      <td>None</td>\n",
       "      <td>None</td>\n",
       "    </tr>\n",
       "    <tr>\n",
       "      <th>11</th>\n",
       "      <td>37a264ac-861c-4d8b-b619-05c7e99ded93/Files/air...</td>\n",
       "      <td>False</td>\n",
       "      <td>None</td>\n",
       "      <td>2024-10-15 16:32:39</td>\n",
       "      <td>NaT</td>\n",
       "      <td>0x8DCED36FC66109C</td>\n",
       "      <td>file</td>\n",
       "      <td>1429</td>\n",
       "      <td>application/octet-stream</td>\n",
       "      <td>None</td>\n",
       "      <td>...</td>\n",
       "      <td>AAAAAAAAAAA=</td>\n",
       "      <td>None</td>\n",
       "      <td>None</td>\n",
       "      <td>None</td>\n",
       "      <td>BlockBlob</td>\n",
       "      <td>Hot</td>\n",
       "      <td>true</td>\n",
       "      <td>True</td>\n",
       "      <td>None</td>\n",
       "      <td>None</td>\n",
       "    </tr>\n",
       "    <tr>\n",
       "      <th>...</th>\n",
       "      <td>...</td>\n",
       "      <td>...</td>\n",
       "      <td>...</td>\n",
       "      <td>...</td>\n",
       "      <td>...</td>\n",
       "      <td>...</td>\n",
       "      <td>...</td>\n",
       "      <td>...</td>\n",
       "      <td>...</td>\n",
       "      <td>...</td>\n",
       "      <td>...</td>\n",
       "      <td>...</td>\n",
       "      <td>...</td>\n",
       "      <td>...</td>\n",
       "      <td>...</td>\n",
       "      <td>...</td>\n",
       "      <td>...</td>\n",
       "      <td>...</td>\n",
       "      <td>...</td>\n",
       "      <td>...</td>\n",
       "      <td>...</td>\n",
       "    </tr>\n",
       "    <tr>\n",
       "      <th>121</th>\n",
       "      <td>37a264ac-861c-4d8b-b619-05c7e99ded93/Tables/br...</td>\n",
       "      <td>False</td>\n",
       "      <td>None</td>\n",
       "      <td>2024-10-15 16:52:38</td>\n",
       "      <td>NaT</td>\n",
       "      <td>0x8DCED39C6D15A80</td>\n",
       "      <td>file</td>\n",
       "      <td>4331</td>\n",
       "      <td>application/octet-stream</td>\n",
       "      <td>None</td>\n",
       "      <td>...</td>\n",
       "      <td>AAAAAAAAAAA=</td>\n",
       "      <td>None</td>\n",
       "      <td>None</td>\n",
       "      <td>None</td>\n",
       "      <td>BlockBlob</td>\n",
       "      <td>Hot</td>\n",
       "      <td>true</td>\n",
       "      <td>True</td>\n",
       "      <td>None</td>\n",
       "      <td>None</td>\n",
       "    </tr>\n",
       "    <tr>\n",
       "      <th>123</th>\n",
       "      <td>37a264ac-861c-4d8b-b619-05c7e99ded93/Tables/br...</td>\n",
       "      <td>False</td>\n",
       "      <td>None</td>\n",
       "      <td>2024-10-15 16:52:37</td>\n",
       "      <td>NaT</td>\n",
       "      <td>0x8DCED39C6093AA8</td>\n",
       "      <td>file</td>\n",
       "      <td>4839</td>\n",
       "      <td>application/octet-stream</td>\n",
       "      <td>None</td>\n",
       "      <td>...</td>\n",
       "      <td>AAAAAAAAAAA=</td>\n",
       "      <td>None</td>\n",
       "      <td>None</td>\n",
       "      <td>None</td>\n",
       "      <td>BlockBlob</td>\n",
       "      <td>Hot</td>\n",
       "      <td>true</td>\n",
       "      <td>True</td>\n",
       "      <td>None</td>\n",
       "      <td>None</td>\n",
       "    </tr>\n",
       "    <tr>\n",
       "      <th>124</th>\n",
       "      <td>37a264ac-861c-4d8b-b619-05c7e99ded93/Tables/br...</td>\n",
       "      <td>False</td>\n",
       "      <td>None</td>\n",
       "      <td>2024-10-15 16:52:38</td>\n",
       "      <td>NaT</td>\n",
       "      <td>0x8DCED39C6A9A514</td>\n",
       "      <td>file</td>\n",
       "      <td>55881</td>\n",
       "      <td>application/octet-stream</td>\n",
       "      <td>None</td>\n",
       "      <td>...</td>\n",
       "      <td>AAAAAAAAAAA=</td>\n",
       "      <td>None</td>\n",
       "      <td>None</td>\n",
       "      <td>None</td>\n",
       "      <td>BlockBlob</td>\n",
       "      <td>Hot</td>\n",
       "      <td>true</td>\n",
       "      <td>True</td>\n",
       "      <td>None</td>\n",
       "      <td>None</td>\n",
       "    </tr>\n",
       "    <tr>\n",
       "      <th>127</th>\n",
       "      <td>37a264ac-861c-4d8b-b619-05c7e99ded93/Tables/br...</td>\n",
       "      <td>False</td>\n",
       "      <td>None</td>\n",
       "      <td>2024-10-15 16:41:37</td>\n",
       "      <td>NaT</td>\n",
       "      <td>0x8DCED383CFDD218</td>\n",
       "      <td>file</td>\n",
       "      <td>2142</td>\n",
       "      <td>application/octet-stream</td>\n",
       "      <td>None</td>\n",
       "      <td>...</td>\n",
       "      <td>AAAAAAAAAAA=</td>\n",
       "      <td>None</td>\n",
       "      <td>None</td>\n",
       "      <td>None</td>\n",
       "      <td>BlockBlob</td>\n",
       "      <td>Hot</td>\n",
       "      <td>true</td>\n",
       "      <td>True</td>\n",
       "      <td>None</td>\n",
       "      <td>None</td>\n",
       "    </tr>\n",
       "    <tr>\n",
       "      <th>129</th>\n",
       "      <td>37a264ac-861c-4d8b-b619-05c7e99ded93/Tables/br...</td>\n",
       "      <td>False</td>\n",
       "      <td>None</td>\n",
       "      <td>2024-10-15 16:41:36</td>\n",
       "      <td>NaT</td>\n",
       "      <td>0x8DCED383C2512C4</td>\n",
       "      <td>file</td>\n",
       "      <td>5261</td>\n",
       "      <td>application/octet-stream</td>\n",
       "      <td>None</td>\n",
       "      <td>...</td>\n",
       "      <td>AAAAAAAAAAA=</td>\n",
       "      <td>None</td>\n",
       "      <td>None</td>\n",
       "      <td>None</td>\n",
       "      <td>BlockBlob</td>\n",
       "      <td>Hot</td>\n",
       "      <td>true</td>\n",
       "      <td>True</td>\n",
       "      <td>None</td>\n",
       "      <td>None</td>\n",
       "    </tr>\n",
       "  </tbody>\n",
       "</table>\n",
       "<p>96 rows × 21 columns</p>\n",
       "</div>"
      ],
      "text/plain": [
       "                                             Blob Name  Is Deleted  \\\n",
       "4    37a264ac-861c-4d8b-b619-05c7e99ded93/Files/air...       False   \n",
       "5    37a264ac-861c-4d8b-b619-05c7e99ded93/Files/air...       False   \n",
       "6    37a264ac-861c-4d8b-b619-05c7e99ded93/Files/air...       False   \n",
       "10   37a264ac-861c-4d8b-b619-05c7e99ded93/Files/air...       False   \n",
       "11   37a264ac-861c-4d8b-b619-05c7e99ded93/Files/air...       False   \n",
       "..                                                 ...         ...   \n",
       "121  37a264ac-861c-4d8b-b619-05c7e99ded93/Tables/br...       False   \n",
       "123  37a264ac-861c-4d8b-b619-05c7e99ded93/Tables/br...       False   \n",
       "124  37a264ac-861c-4d8b-b619-05c7e99ded93/Tables/br...       False   \n",
       "127  37a264ac-861c-4d8b-b619-05c7e99ded93/Tables/br...       False   \n",
       "129  37a264ac-861c-4d8b-b619-05c7e99ded93/Tables/br...       False   \n",
       "\n",
       "    Deletion Id       Creation Time Expiry Time               Etag  \\\n",
       "4          None 2024-10-15 16:26:54         NaT  0x8DCED362EA86FF0   \n",
       "5          None 2024-10-15 16:26:53         NaT  0x8DCED362E5583C4   \n",
       "6          None 2024-10-15 16:26:53         NaT  0x8DCED362E47AA5C   \n",
       "10         None 2024-10-15 16:32:37         NaT  0x8DCED36FAFBB0E8   \n",
       "11         None 2024-10-15 16:32:39         NaT  0x8DCED36FC66109C   \n",
       "..          ...                 ...         ...                ...   \n",
       "121        None 2024-10-15 16:52:38         NaT  0x8DCED39C6D15A80   \n",
       "123        None 2024-10-15 16:52:37         NaT  0x8DCED39C6093AA8   \n",
       "124        None 2024-10-15 16:52:38         NaT  0x8DCED39C6A9A514   \n",
       "127        None 2024-10-15 16:41:37         NaT  0x8DCED383CFDD218   \n",
       "129        None 2024-10-15 16:41:36         NaT  0x8DCED383C2512C4   \n",
       "\n",
       "    Resource Type  Content Length              Content Type Content Encoding  \\\n",
       "4            file               0  application/octet-stream             None   \n",
       "5            file          103480  application/octet-stream             None   \n",
       "6            file          103830  application/octet-stream             None   \n",
       "10           file            2441  application/octet-stream             None   \n",
       "11           file            1429  application/octet-stream             None   \n",
       "..            ...             ...                       ...              ...   \n",
       "121          file            4331  application/octet-stream             None   \n",
       "123          file            4839  application/octet-stream             None   \n",
       "124          file           55881  application/octet-stream             None   \n",
       "127          file            2142  application/octet-stream             None   \n",
       "129          file            5261  application/octet-stream             None   \n",
       "\n",
       "     ... Content CRC64 Content MD5 Cache Control Content Disposition  \\\n",
       "4    ...  AAAAAAAAAAA=        None          None                None   \n",
       "5    ...  AAAAAAAAAAA=        None          None                None   \n",
       "6    ...  AAAAAAAAAAA=        None          None                None   \n",
       "10   ...  AAAAAAAAAAA=        None          None                None   \n",
       "11   ...  AAAAAAAAAAA=        None          None                None   \n",
       "..   ...           ...         ...           ...                 ...   \n",
       "121  ...  AAAAAAAAAAA=        None          None                None   \n",
       "123  ...  AAAAAAAAAAA=        None          None                None   \n",
       "124  ...  AAAAAAAAAAA=        None          None                None   \n",
       "127  ...  AAAAAAAAAAA=        None          None                None   \n",
       "129  ...  AAAAAAAAAAA=        None          None                None   \n",
       "\n",
       "     Blob Type Access Tier Access Tier Inferred Server Encrypted  \\\n",
       "4    BlockBlob         Hot                 true             True   \n",
       "5    BlockBlob         Hot                 true             True   \n",
       "6    BlockBlob         Hot                 true             True   \n",
       "10   BlockBlob         Hot                 true             True   \n",
       "11   BlockBlob         Hot                 true             True   \n",
       "..         ...         ...                  ...              ...   \n",
       "121  BlockBlob         Hot                 true             True   \n",
       "123  BlockBlob         Hot                 true             True   \n",
       "124  BlockBlob         Hot                 true             True   \n",
       "127  BlockBlob         Hot                 true             True   \n",
       "129  BlockBlob         Hot                 true             True   \n",
       "\n",
       "     Deleted Time Remaining Retention Days  \n",
       "4            None                     None  \n",
       "5            None                     None  \n",
       "6            None                     None  \n",
       "10           None                     None  \n",
       "11           None                     None  \n",
       "..            ...                      ...  \n",
       "121          None                     None  \n",
       "123          None                     None  \n",
       "124          None                     None  \n",
       "127          None                     None  \n",
       "129          None                     None  \n",
       "\n",
       "[96 rows x 21 columns]"
      ]
     },
     "execution_count": 73,
     "metadata": {},
     "output_type": "execute_result"
    }
   ],
   "source": [
    "#\n",
    "#  List files\n",
    "#\n",
    "\n",
    "file_list = blobs_list[blobs_list['Resource Type'] == 'file']\n",
    "file_list\n"
   ]
  },
  {
   "cell_type": "code",
   "execution_count": null,
   "id": "8acfb523-d908-49d7-80e3-9479d301a926",
   "metadata": {
    "microsoft": {
     "language": "python",
     "language_group": "synapse_pyspark"
    }
   },
   "outputs": [
    {
     "data": {
      "application/vnd.livy.statement-meta+json": {
       "execution_finish_time": "2025-04-29T14:28:39.9174572Z",
       "execution_start_time": "2025-04-29T14:28:39.3937305Z",
       "livy_statement_state": "available",
       "normalized_state": "finished",
       "parent_msg_id": "ef40bbd5-344c-4610-bc8e-c7593c3cbcc4",
       "queued_time": "2025-04-29T14:28:39.3924928Z",
       "session_id": "9f1218d2-9b19-486a-9548-62bbb49ee0e7",
       "session_start_time": null,
       "spark_pool": null,
       "state": "finished",
       "statement_id": 39,
       "statement_ids": [
        39
       ]
      },
      "text/plain": [
       "StatementMeta(, 9f1218d2-9b19-486a-9548-62bbb49ee0e7, 39, Finished, Available, Finished)"
      ]
     },
     "metadata": {},
     "output_type": "display_data"
    },
    {
     "name": "stdout",
     "output_type": "stream",
     "text": [
      "37a264ac-861c-4d8b-b619-05c7e99ded93/Files/airlines/20241015/part-00000-629c70ab-3d78-4dca-9243-ca2aadb86e7c-c000.snappy.parquet\n"
     ]
    }
   ],
   "source": [
    "#\n",
    "#  Grab file name + path\n",
    "#\n",
    "\n",
    "file_name = file_list.iloc[1]['Blob Name']\n",
    "print(file_name)\n"
   ]
  },
  {
   "cell_type": "code",
   "execution_count": null,
   "id": "1140d682-e884-4e00-a873-d5847e724b40",
   "metadata": {
    "microsoft": {
     "language": "python",
     "language_group": "synapse_pyspark"
    }
   },
   "outputs": [
    {
     "data": {
      "application/vnd.livy.statement-meta+json": {
       "execution_finish_time": "2025-04-29T15:10:30.7716776Z",
       "execution_start_time": "2025-04-29T15:10:29.9795989Z",
       "livy_statement_state": "available",
       "normalized_state": "finished",
       "parent_msg_id": "a689df60-65de-4415-9098-d054e44c9d1c",
       "queued_time": "2025-04-29T15:10:29.9783536Z",
       "session_id": "d557c60a-a9a6-4f98-9a58-3e5a0851a938",
       "session_start_time": null,
       "spark_pool": null,
       "state": "finished",
       "statement_id": 19,
       "statement_ids": [
        19
       ]
      },
      "text/plain": [
       "StatementMeta(, d557c60a-a9a6-4f98-9a58-3e5a0851a938, 19, Finished, Available, Finished)"
      ]
     },
     "metadata": {},
     "output_type": "display_data"
    },
    {
     "ename": "AttributeError",
     "evalue": "Attribute does not exist",
     "output_type": "error",
     "traceback": [
      "\u001b[0;31m---------------------------------------------------------------------------\u001b[0m",
      "\u001b[0;31mAttributeError\u001b[0m                            Traceback (most recent call last)",
      "Cell \u001b[0;32mIn[16], line 5\u001b[0m\n\u001b[1;32m      1\u001b[0m \u001b[38;5;66;03m#\u001b[39;00m\n\u001b[1;32m      2\u001b[0m \u001b[38;5;66;03m#  Show active sessions\u001b[39;00m\n\u001b[1;32m      3\u001b[0m \u001b[38;5;66;03m#\u001b[39;00m\n\u001b[0;32m----> 5\u001b[0m labs\u001b[38;5;241m.\u001b[39mlakehouse\u001b[38;5;241m.\u001b[39mlist_livy_sessions(workspace\u001b[38;5;241m=\u001b[39m\u001b[38;5;124m'\u001b[39m\u001b[38;5;124mws-aviation-tracker\u001b[39m\u001b[38;5;124m'\u001b[39m, lakehouse\u001b[38;5;241m=\u001b[39m\u001b[38;5;124m'\u001b[39m\u001b[38;5;124mlh_aviation_tracker\u001b[39m\u001b[38;5;124m'\u001b[39m)\n",
      "File \u001b[0;32m~/cluster-env/trident_env/lib/python3.11/site-packages/synapse/ml/fabric/prerun/usage_telemetry_prerun.py:137\u001b[0m, in \u001b[0;36mModuleSpecHook.modify_spec.<locals>.__getattr__\u001b[0;34m(name)\u001b[0m\n\u001b[1;32m    135\u001b[0m \u001b[38;5;28;01melse\u001b[39;00m:\n\u001b[1;32m    136\u001b[0m     \u001b[38;5;28;01mif\u001b[39;00m name \u001b[38;5;129;01mnot\u001b[39;00m \u001b[38;5;129;01min\u001b[39;00m \u001b[38;5;28mvars\u001b[39m(module):\n\u001b[0;32m--> 137\u001b[0m         \u001b[38;5;28;01mraise\u001b[39;00m \u001b[38;5;167;01mAttributeError\u001b[39;00m(\u001b[38;5;124m'\u001b[39m\u001b[38;5;124mAttribute does not exist\u001b[39m\u001b[38;5;124m'\u001b[39m)\n\u001b[1;32m    138\u001b[0m     \u001b[38;5;28;01mreturn\u001b[39;00m \u001b[38;5;28mgetattr\u001b[39m(module, name)\n",
      "\u001b[0;31mAttributeError\u001b[0m: Attribute does not exist"
     ]
    }
   ],
   "source": [
    "#\n",
    "#  Show active sessions (beta code - why in docs)\n",
    "#\n",
    "\n",
    "labs.lakehouse.list_livy_sessions(workspace='ws-aviation-tracker', lakehouse='lh_aviation_tracker')"
   ]
  },
  {
   "cell_type": "code",
   "execution_count": 7,
   "id": "f52ec374-dcea-486f-9c09-356423aae2fe",
   "metadata": {
    "collapsed": false,
    "microsoft": {
     "language": "sparksql",
     "language_group": "synapse_pyspark"
    }
   },
   "outputs": [
    {
     "data": {
      "application/vnd.livy.statement-meta+json": {
       "execution_finish_time": "2025-04-29T14:44:12.7906048Z",
       "execution_start_time": "2025-04-29T14:44:11.9628708Z",
       "livy_statement_state": "available",
       "normalized_state": "finished",
       "parent_msg_id": "36320f32-f538-41db-a8ed-399fea5e1383",
       "queued_time": "2025-04-29T14:44:11.9616505Z",
       "session_id": "7ab7e545-2b6d-42d5-a008-010b4d011d0f",
       "session_start_time": null,
       "spark_pool": null,
       "state": "finished",
       "statement_id": 8,
       "statement_ids": [
        8
       ]
      },
      "text/plain": [
       "StatementMeta(, 7ab7e545-2b6d-42d5-a008-010b4d011d0f, 8, Finished, Available, Finished)"
      ]
     },
     "metadata": {},
     "output_type": "display_data"
    },
    {
     "data": {
      "application/vnd.synapse.sparksql-result+json": {
       "data": [
        [
         "iata",
         "string",
         null
        ],
        [
         "icao",
         "string",
         null
        ],
        [
         "airline",
         "string",
         null
        ],
        [
         "call_sign",
         "string",
         null
        ],
        [
         "country_region",
         "string",
         null
        ],
        [
         "comments",
         "string",
         null
        ],
        [
         "_load_date",
         "timestamp",
         null
        ],
        [
         "_folder_name",
         "string",
         null
        ],
        [
         "_file_name",
         "string",
         null
        ],
        [
         "",
         "",
         ""
        ],
        [
         "# Detailed Table Information",
         "",
         ""
        ],
        [
         "Name",
         "spark_catalog.lh_aviation_tracker.bronze_airline_info",
         ""
        ],
        [
         "Type",
         "MANAGED",
         ""
        ],
        [
         "Location",
         "abfss://8742d3fd-917c-4983-b173-bd50df60c9f3@onelake.dfs.fabric.microsoft.com/37a264ac-861c-4d8b-b619-05c7e99ded93/Tables/bronze_airline_info",
         ""
        ],
        [
         "Provider",
         "delta",
         ""
        ],
        [
         "Owner",
         "trusted-service-user",
         ""
        ],
        [
         "Table Properties",
         "[delta.minReaderVersion=1,delta.minWriterVersion=2,delta.parquet.vorder.enabled=true]",
         ""
        ]
       ],
       "schema": {
        "fields": [
         {
          "metadata": {
           "comment": "name of the column"
          },
          "name": "col_name",
          "nullable": false,
          "type": "string"
         },
         {
          "metadata": {
           "comment": "data type of the column"
          },
          "name": "data_type",
          "nullable": false,
          "type": "string"
         },
         {
          "metadata": {
           "comment": "comment of the column"
          },
          "name": "comment",
          "nullable": true,
          "type": "string"
         }
        ],
        "type": "struct"
       }
      },
      "text/plain": [
       "<Spark SQL result set with 17 rows and 3 fields>"
      ]
     },
     "execution_count": 7,
     "metadata": {},
     "output_type": "execute_result"
    }
   ],
   "source": [
    "%%sql\n",
    "describe table extended bronze_airline_info"
   ]
  },
  {
   "cell_type": "code",
   "execution_count": 5,
   "id": "97f2d207-f4f0-400b-ae1e-07878dd59db6",
   "metadata": {
    "collapsed": false,
    "microsoft": {
     "language": "sparksql",
     "language_group": "synapse_pyspark"
    }
   },
   "outputs": [
    {
     "data": {
      "application/vnd.livy.statement-meta+json": {
       "execution_finish_time": "2025-04-29T14:43:45.3949194Z",
       "execution_start_time": "2025-04-29T14:43:43.0928108Z",
       "livy_statement_state": "available",
       "normalized_state": "finished",
       "parent_msg_id": "1295af65-96af-48e1-9715-37e78b58cd85",
       "queued_time": "2025-04-29T14:43:43.0876812Z",
       "session_id": "7ab7e545-2b6d-42d5-a008-010b4d011d0f",
       "session_start_time": null,
       "spark_pool": null,
       "state": "finished",
       "statement_id": 6,
       "statement_ids": [
        6
       ]
      },
      "text/plain": [
       "StatementMeta(, 7ab7e545-2b6d-42d5-a008-010b4d011d0f, 6, Finished, Available, Finished)"
      ]
     },
     "metadata": {},
     "output_type": "display_data"
    },
    {
     "data": {
      "application/vnd.synapse.sparksql-result+json": {
       "data": [
        [
         "1",
         "2024-10-15T16:52:38Z",
         null,
         null,
         "MERGE",
         {
          "matchedPredicates": "[{\"actionType\":\"update\"}]",
          "notMatchedBySourcePredicates": "[]",
          "notMatchedPredicates": "[{\"actionType\":\"insert\"}]",
          "predicate": "[\"(fa_flight_id#1219 = fa_flight_id#977)\"]"
         },
         null,
         null,
         null,
         "0",
         "Serializable",
         false,
         {
          "executionTimeMs": "6031",
          "numOutputRows": "254",
          "numSourceRows": "254",
          "numTargetBytesAdded": "55881",
          "numTargetBytesRemoved": "0",
          "numTargetChangeFilesAdded": "0",
          "numTargetFilesAdded": "1",
          "numTargetFilesRemoved": "0",
          "numTargetRowsCopied": "0",
          "numTargetRowsDeleted": "0",
          "numTargetRowsInserted": "254",
          "numTargetRowsMatchedDeleted": "0",
          "numTargetRowsMatchedUpdated": "0",
          "numTargetRowsNotMatchedBySourceDeleted": "0",
          "numTargetRowsNotMatchedBySourceUpdated": "0",
          "numTargetRowsUpdated": "0",
          "rewriteTimeMs": "2194",
          "scanTimeMs": "2107",
          "unmodifiedRewriteTimeMs": "1170"
         },
         null,
         "Apache-Spark/3.4.3.5.3.20240923.1 Delta-Lake/2.4.0.19"
        ],
        [
         "0",
         "2024-10-15T16:52:14Z",
         null,
         null,
         "CREATE TABLE",
         {
          "description": null,
          "isManaged": "true",
          "partitionBy": "[]",
          "properties": "{}"
         },
         null,
         null,
         null,
         null,
         "Serializable",
         true,
         {},
         null,
         "Apache-Spark/3.4.3.5.3.20240923.1 Delta-Lake/2.4.0.19"
        ]
       ],
       "schema": {
        "fields": [
         {
          "metadata": {},
          "name": "version",
          "nullable": true,
          "type": "long"
         },
         {
          "metadata": {},
          "name": "timestamp",
          "nullable": true,
          "type": "timestamp"
         },
         {
          "metadata": {},
          "name": "userId",
          "nullable": true,
          "type": "string"
         },
         {
          "metadata": {},
          "name": "userName",
          "nullable": true,
          "type": "string"
         },
         {
          "metadata": {},
          "name": "operation",
          "nullable": true,
          "type": "string"
         },
         {
          "metadata": {},
          "name": "operationParameters",
          "nullable": true,
          "type": {
           "keyType": "string",
           "type": "map",
           "valueContainsNull": true,
           "valueType": "string"
          }
         },
         {
          "metadata": {},
          "name": "job",
          "nullable": true,
          "type": {
           "fields": [
            {
             "metadata": {},
             "name": "jobId",
             "nullable": true,
             "type": "string"
            },
            {
             "metadata": {},
             "name": "jobName",
             "nullable": true,
             "type": "string"
            },
            {
             "metadata": {},
             "name": "jobRunId",
             "nullable": true,
             "type": "string"
            },
            {
             "metadata": {},
             "name": "runId",
             "nullable": true,
             "type": "string"
            },
            {
             "metadata": {},
             "name": "jobOwnerId",
             "nullable": true,
             "type": "string"
            },
            {
             "metadata": {},
             "name": "triggerType",
             "nullable": true,
             "type": "string"
            }
           ],
           "type": "struct"
          }
         },
         {
          "metadata": {},
          "name": "notebook",
          "nullable": true,
          "type": {
           "fields": [
            {
             "metadata": {},
             "name": "notebookId",
             "nullable": true,
             "type": "string"
            }
           ],
           "type": "struct"
          }
         },
         {
          "metadata": {},
          "name": "clusterId",
          "nullable": true,
          "type": "string"
         },
         {
          "metadata": {},
          "name": "readVersion",
          "nullable": true,
          "type": "long"
         },
         {
          "metadata": {},
          "name": "isolationLevel",
          "nullable": true,
          "type": "string"
         },
         {
          "metadata": {},
          "name": "isBlindAppend",
          "nullable": true,
          "type": "boolean"
         },
         {
          "metadata": {},
          "name": "operationMetrics",
          "nullable": true,
          "type": {
           "keyType": "string",
           "type": "map",
           "valueContainsNull": true,
           "valueType": "string"
          }
         },
         {
          "metadata": {},
          "name": "userMetadata",
          "nullable": true,
          "type": "string"
         },
         {
          "metadata": {},
          "name": "engineInfo",
          "nullable": true,
          "type": "string"
         }
        ],
        "type": "struct"
       }
      },
      "text/plain": [
       "<Spark SQL result set with 2 rows and 15 fields>"
      ]
     },
     "execution_count": 5,
     "metadata": {},
     "output_type": "execute_result"
    }
   ],
   "source": [
    "%%sql\n",
    "describe history bronze_flight_info"
   ]
  },
  {
   "cell_type": "code",
   "execution_count": 5,
   "id": "658880d5-ba15-47f9-b0c9-11f67a6933bf",
   "metadata": {
    "microsoft": {
     "language": "python",
     "language_group": "synapse_pyspark"
    }
   },
   "outputs": [
    {
     "data": {
      "application/vnd.livy.statement-meta+json": {
       "execution_finish_time": "2025-04-29T15:26:11.7649583Z",
       "execution_start_time": "2025-04-29T15:25:55.2396277Z",
       "livy_statement_state": "available",
       "normalized_state": "finished",
       "parent_msg_id": "71d3269a-3204-48d5-9de1-3e44bbf88404",
       "queued_time": "2025-04-29T15:25:55.2385659Z",
       "session_id": "bbd5dd9d-fcc2-4c84-af48-3f2885036674",
       "session_start_time": null,
       "spark_pool": null,
       "state": "finished",
       "statement_id": 17,
       "statement_ids": [
        17
       ]
      },
      "text/plain": [
       "StatementMeta(, bbd5dd9d-fcc2-4c84-af48-3f2885036674, 17, Finished, Available, Finished)"
      ]
     },
     "metadata": {},
     "output_type": "display_data"
    },
    {
     "data": {
      "application/vnd.jupyter.widget-view+json": {
       "model_id": "ce457bf29b114640bcb4fb6330ba9413",
       "version_major": 2,
       "version_minor": 0
      },
      "text/plain": [
       "0it [00:00, ?it/s]"
      ]
     },
     "metadata": {},
     "output_type": "display_data"
    },
    {
     "data": {
      "application/vnd.livy.statement-meta+json": {
       "execution_finish_time": "2025-04-29T15:26:12.3533686Z",
       "execution_start_time": "2025-04-29T15:26:11.7671471Z",
       "livy_statement_state": "available",
       "normalized_state": "finished",
       "parent_msg_id": "a6f38400-381a-4bf2-81bb-7e9a34fcdc10",
       "queued_time": "2025-04-29T15:26:00.5914353Z",
       "session_id": "bbd5dd9d-fcc2-4c84-af48-3f2885036674",
       "session_start_time": null,
       "spark_pool": null,
       "state": "finished",
       "statement_id": 18,
       "statement_ids": [
        18
       ]
      },
      "text/plain": [
       "StatementMeta(, bbd5dd9d-fcc2-4c84-af48-3f2885036674, 18, Finished, Available, Finished)"
      ]
     },
     "metadata": {},
     "output_type": "display_data"
    }
   ],
   "source": [
    "#\n",
    "#  Run optimize on table (now)\n",
    "#\n",
    "\n",
    "labs.lakehouse.optimize_lakehouse_tables(workspace='ws-aviation-tracker', lakehouse='lh_aviation_tracker', tables='bronze_flight_info')"
   ]
  },
  {
   "cell_type": "code",
   "execution_count": 7,
   "id": "e11ad270-c0a2-414a-bc27-cb470a39c806",
   "metadata": {
    "microsoft": {
     "language": "python",
     "language_group": "synapse_pyspark"
    }
   },
   "outputs": [
    {
     "data": {
      "application/vnd.livy.statement-meta+json": {
       "execution_finish_time": "2025-04-29T15:27:12.7746495Z",
       "execution_start_time": "2025-04-29T15:26:58.6470562Z",
       "livy_statement_state": "available",
       "normalized_state": "finished",
       "parent_msg_id": "74fa996d-d039-46d5-9e51-17f23d4e2f82",
       "queued_time": "2025-04-29T15:26:58.6458431Z",
       "session_id": "bbd5dd9d-fcc2-4c84-af48-3f2885036674",
       "session_start_time": null,
       "spark_pool": null,
       "state": "finished",
       "statement_id": 20,
       "statement_ids": [
        20
       ]
      },
      "text/plain": [
       "StatementMeta(, bbd5dd9d-fcc2-4c84-af48-3f2885036674, 20, Finished, Available, Finished)"
      ]
     },
     "metadata": {},
     "output_type": "display_data"
    },
    {
     "data": {
      "application/vnd.jupyter.widget-view+json": {
       "model_id": "ba2510d3b65042d5828b769055fc53d9",
       "version_major": 2,
       "version_minor": 0
      },
      "text/plain": [
       "0it [00:00, ?it/s]"
      ]
     },
     "metadata": {},
     "output_type": "display_data"
    },
    {
     "data": {
      "application/vnd.livy.statement-meta+json": {
       "execution_finish_time": "2025-04-29T15:27:13.2100883Z",
       "execution_start_time": "2025-04-29T15:27:12.7771085Z",
       "livy_statement_state": "available",
       "normalized_state": "finished",
       "parent_msg_id": "121ec5b4-dc44-44b4-b194-44108de217d7",
       "queued_time": "2025-04-29T15:27:03.2983081Z",
       "session_id": "bbd5dd9d-fcc2-4c84-af48-3f2885036674",
       "session_start_time": null,
       "spark_pool": null,
       "state": "finished",
       "statement_id": 21,
       "statement_ids": [
        21
       ]
      },
      "text/plain": [
       "StatementMeta(, bbd5dd9d-fcc2-4c84-af48-3f2885036674, 21, Finished, Available, Finished)"
      ]
     },
     "metadata": {},
     "output_type": "display_data"
    }
   ],
   "source": [
    "#\n",
    "#  Run vacumm on table (now)\n",
    "#\n",
    "\n",
    "labs.lakehouse.vacuum_lakehouse_tables(workspace='ws-aviation-tracker', lakehouse='lh_aviation_tracker', tables='bronze_flight_info')\n"
   ]
  },
  {
   "cell_type": "code",
   "execution_count": 8,
   "id": "67210387-bae3-4459-90df-017a0f926a5c",
   "metadata": {
    "collapsed": false,
    "microsoft": {
     "language": "sparksql",
     "language_group": "synapse_pyspark"
    }
   },
   "outputs": [
    {
     "data": {
      "application/vnd.livy.statement-meta+json": {
       "execution_finish_time": "2025-04-29T15:27:20.4401217Z",
       "execution_start_time": "2025-04-29T15:27:18.8002997Z",
       "livy_statement_state": "available",
       "normalized_state": "finished",
       "parent_msg_id": "45aa9505-1a31-4b7d-b289-e66405936a35",
       "queued_time": "2025-04-29T15:27:18.7990944Z",
       "session_id": "bbd5dd9d-fcc2-4c84-af48-3f2885036674",
       "session_start_time": null,
       "spark_pool": null,
       "state": "finished",
       "statement_id": 22,
       "statement_ids": [
        22
       ]
      },
      "text/plain": [
       "StatementMeta(, bbd5dd9d-fcc2-4c84-af48-3f2885036674, 22, Finished, Available, Finished)"
      ]
     },
     "metadata": {},
     "output_type": "display_data"
    },
    {
     "data": {
      "application/vnd.synapse.sparksql-result+json": {
       "data": [
        [
         "3",
         "2025-04-29T15:27:11Z",
         null,
         null,
         "VACUUM END",
         {
          "status": "COMPLETED"
         },
         null,
         null,
         null,
         "2",
         "SnapshotIsolation",
         true,
         {
          "numDeletedFiles": "1",
          "numVacuumedDirectories": "1"
         },
         null,
         "Apache-Spark/3.5.1.5.4.20250331.2 Delta-Lake/3.2.0.18"
        ],
        [
         "2",
         "2025-04-29T15:27:10Z",
         null,
         null,
         "VACUUM START",
         {
          "defaultRetentionMillis": "604800000",
          "retentionCheckEnabled": "true"
         },
         null,
         null,
         null,
         "1",
         "SnapshotIsolation",
         true,
         {
          "numFilesToDelete": "1",
          "sizeOfDataToDelete": "4839"
         },
         null,
         "Apache-Spark/3.5.1.5.4.20250331.2 Delta-Lake/3.2.0.18"
        ],
        [
         "1",
         "2024-10-15T16:52:38Z",
         null,
         null,
         "MERGE",
         {
          "matchedPredicates": "[{\"actionType\":\"update\"}]",
          "notMatchedBySourcePredicates": "[]",
          "notMatchedPredicates": "[{\"actionType\":\"insert\"}]",
          "predicate": "[\"(fa_flight_id#1219 = fa_flight_id#977)\"]"
         },
         null,
         null,
         null,
         "0",
         "Serializable",
         false,
         {
          "executionTimeMs": "6031",
          "numOutputRows": "254",
          "numSourceRows": "254",
          "numTargetBytesAdded": "55881",
          "numTargetBytesRemoved": "0",
          "numTargetChangeFilesAdded": "0",
          "numTargetFilesAdded": "1",
          "numTargetFilesRemoved": "0",
          "numTargetRowsCopied": "0",
          "numTargetRowsDeleted": "0",
          "numTargetRowsInserted": "254",
          "numTargetRowsMatchedDeleted": "0",
          "numTargetRowsMatchedUpdated": "0",
          "numTargetRowsNotMatchedBySourceDeleted": "0",
          "numTargetRowsNotMatchedBySourceUpdated": "0",
          "numTargetRowsUpdated": "0",
          "rewriteTimeMs": "2194",
          "scanTimeMs": "2107",
          "unmodifiedRewriteTimeMs": "1170"
         },
         null,
         "Apache-Spark/3.4.3.5.3.20240923.1 Delta-Lake/2.4.0.19"
        ],
        [
         "0",
         "2024-10-15T16:52:14Z",
         null,
         null,
         "CREATE TABLE",
         {
          "description": null,
          "isManaged": "true",
          "partitionBy": "[]",
          "properties": "{}"
         },
         null,
         null,
         null,
         null,
         "Serializable",
         true,
         {},
         null,
         "Apache-Spark/3.4.3.5.3.20240923.1 Delta-Lake/2.4.0.19"
        ]
       ],
       "schema": {
        "fields": [
         {
          "metadata": {},
          "name": "version",
          "nullable": true,
          "type": "long"
         },
         {
          "metadata": {},
          "name": "timestamp",
          "nullable": true,
          "type": "timestamp"
         },
         {
          "metadata": {},
          "name": "userId",
          "nullable": true,
          "type": "string"
         },
         {
          "metadata": {},
          "name": "userName",
          "nullable": true,
          "type": "string"
         },
         {
          "metadata": {},
          "name": "operation",
          "nullable": true,
          "type": "string"
         },
         {
          "metadata": {},
          "name": "operationParameters",
          "nullable": true,
          "type": {
           "keyType": "string",
           "type": "map",
           "valueContainsNull": true,
           "valueType": "string"
          }
         },
         {
          "metadata": {},
          "name": "job",
          "nullable": true,
          "type": {
           "fields": [
            {
             "metadata": {},
             "name": "jobId",
             "nullable": true,
             "type": "string"
            },
            {
             "metadata": {},
             "name": "jobName",
             "nullable": true,
             "type": "string"
            },
            {
             "metadata": {},
             "name": "jobRunId",
             "nullable": true,
             "type": "string"
            },
            {
             "metadata": {},
             "name": "runId",
             "nullable": true,
             "type": "string"
            },
            {
             "metadata": {},
             "name": "jobOwnerId",
             "nullable": true,
             "type": "string"
            },
            {
             "metadata": {},
             "name": "triggerType",
             "nullable": true,
             "type": "string"
            }
           ],
           "type": "struct"
          }
         },
         {
          "metadata": {},
          "name": "notebook",
          "nullable": true,
          "type": {
           "fields": [
            {
             "metadata": {},
             "name": "notebookId",
             "nullable": true,
             "type": "string"
            }
           ],
           "type": "struct"
          }
         },
         {
          "metadata": {},
          "name": "clusterId",
          "nullable": true,
          "type": "string"
         },
         {
          "metadata": {},
          "name": "readVersion",
          "nullable": true,
          "type": "long"
         },
         {
          "metadata": {},
          "name": "isolationLevel",
          "nullable": true,
          "type": "string"
         },
         {
          "metadata": {},
          "name": "isBlindAppend",
          "nullable": true,
          "type": "boolean"
         },
         {
          "metadata": {},
          "name": "operationMetrics",
          "nullable": true,
          "type": {
           "keyType": "string",
           "type": "map",
           "valueContainsNull": true,
           "valueType": "string"
          }
         },
         {
          "metadata": {},
          "name": "userMetadata",
          "nullable": true,
          "type": "string"
         },
         {
          "metadata": {},
          "name": "engineInfo",
          "nullable": true,
          "type": "string"
         }
        ],
        "type": "struct"
       }
      },
      "text/plain": [
       "<Spark SQL result set with 4 rows and 15 fields>"
      ]
     },
     "execution_count": 8,
     "metadata": {},
     "output_type": "execute_result"
    }
   ],
   "source": [
    "%%sql\n",
    "describe history bronze_flight_info"
   ]
  },
  {
   "cell_type": "code",
   "execution_count": 5,
   "id": "4ebd7ee3-2dba-4ee5-bde7-eec0a3a810d9",
   "metadata": {
    "microsoft": {
     "language": "python",
     "language_group": "synapse_pyspark"
    }
   },
   "outputs": [
    {
     "data": {
      "application/vnd.livy.statement-meta+json": {
       "execution_finish_time": "2025-04-29T16:14:21.1126507Z",
       "execution_start_time": "2025-04-29T16:14:18.6901627Z",
       "livy_statement_state": "available",
       "normalized_state": "finished",
       "parent_msg_id": "1e092ed6-e5c4-4aa9-9093-9c056fa7e45c",
       "queued_time": "2025-04-29T16:14:18.6890349Z",
       "session_id": "a1864cdb-fea7-4536-8845-f284af5be84b",
       "session_start_time": null,
       "spark_pool": null,
       "state": "finished",
       "statement_id": 17,
       "statement_ids": [
        17
       ]
      },
      "text/plain": [
       "StatementMeta(, a1864cdb-fea7-4536-8845-f284af5be84b, 17, Finished, Available, Finished)"
      ]
     },
     "metadata": {},
     "output_type": "display_data"
    },
    {
     "name": "stdout",
     "output_type": "stream",
     "text": [
      "🟢 The table maintenance job for the 'bronze_flight_info' table in the 'lh_aviation_tracker' lakehouse within the 'ws-aviation-tracker' workspace has been initiated.\n"
     ]
    }
   ],
   "source": [
    "#\n",
    "#  Run optimize on table (job)\n",
    "#\n",
    "\n",
    "labs.lakehouse.run_table_maintenance(workspace='ws-aviation-tracker', lakehouse='lh_aviation_tracker', table_name='bronze_flight_info', optimize=True, vacuum=True)"
   ]
  },
  {
   "cell_type": "code",
   "execution_count": null,
   "id": "afd414e0",
   "metadata": {},
   "outputs": [],
   "source": [
    "#\n",
    "#  Recover the lakehouse table\n",
    "#\n",
    "\n",
    "labs.lakehouse.recover_lakehouse_object(workspace='ws-fabric-bites', lakehouse='lh_fabric_bites', file_path='Tables/tbl_iris')"
   ]
  }
 ],
 "metadata": {
  "dependencies": {
   "lakehouse": {
    "default_lakehouse": "37a264ac-861c-4d8b-b619-05c7e99ded93",
    "default_lakehouse_name": "lh_aviation_tracker",
    "default_lakehouse_workspace_id": "8742d3fd-917c-4983-b173-bd50df60c9f3",
    "known_lakehouses": [
     {
      "id": "37a264ac-861c-4d8b-b619-05c7e99ded93"
     }
    ]
   }
  },
  "kernel_info": {
   "name": "synapse_pyspark"
  },
  "kernelspec": {
   "display_name": "Synapse PySpark",
   "language": "Python",
   "name": "synapse_pyspark"
  },
  "language_info": {
   "name": "python"
  },
  "microsoft": {
   "language": "python",
   "language_group": "synapse_pyspark",
   "ms_spell_check": {
    "ms_spell_check_language": "en"
   }
  },
  "nteract": {
   "version": "nteract-front-end@1.0.0"
  },
  "spark_compute": {
   "compute_id": "/trident/default",
   "session_options": {
    "conf": {
     "spark.synapse.nbs.session.timeout": "1200000"
    }
   }
  },
  "synapse_widget": {
   "state": {
    "b431cada-7a91-4edf-8528-d7826f43dc5d": {
     "persist_state": {
      "view": {
       "chartOptions": {
        "aggregationType": "count",
        "binsNumber": 10,
        "categoryFieldKeys": [
         "1"
        ],
        "chartType": "bar",
        "evaluatesOverAllRecords": false,
        "isStacked": false,
        "seriesFieldKeys": [
         "2"
        ],
        "wordFrequency": "-1"
       },
       "tableOptions": {},
       "type": "details",
       "viewOptionsGroup": [
        {
         "tabItems": [
          {
           "key": "0",
           "name": "Table",
           "options": {},
           "type": "table"
          }
         ]
        }
       ]
      }
     },
     "sync_state": {
      "isSummary": false,
      "language": "scala",
      "table": {
       "rows": [
        {
         "0": "341-22-1782",
         "1": "Lawrence",
         "2": "66044",
         "3": "KS",
         "4": "Meander",
         "5": "10 Mississippi Dr.",
         "6": "false",
         "7": "913 843-0462",
         "8": "Smith"
        },
        {
         "0": "486-29-1786",
         "1": "San Francisco",
         "2": "94130",
         "3": "CA",
         "4": "Charlene",
         "5": "18 Broadway Av.",
         "6": "true",
         "7": "415 585-4620",
         "8": "Locksley"
        },
        {
         "0": "648-92-1872",
         "1": "Corvallis",
         "2": "97330",
         "3": "OR",
         "4": "Reginald",
         "5": "55 Hillsdale Bl.",
         "6": "true",
         "7": "503 745-6402",
         "8": "Blotchet-Halls"
        },
        {
         "0": "846-92-7186",
         "1": "Palo Alto",
         "2": "94301",
         "3": "CA",
         "4": "Sheryl",
         "5": "3410 Blonde St.",
         "6": "true",
         "7": "415 836-7128",
         "8": "Hunter"
        },
        {
         "0": "172-32-1176",
         "1": "Menlo Park",
         "2": "94025",
         "3": "CA",
         "4": "Johnson",
         "5": "10932 Bigge Rd.",
         "6": "true",
         "7": "408 496-7223",
         "8": "White"
        },
        {
         "0": "712-45-1867",
         "1": "Ann Arbor",
         "2": "48105",
         "3": "MI",
         "4": "Innes",
         "5": "2286 Cram Pl. #86",
         "6": "true",
         "7": "615 996-8275",
         "8": "del Castillo"
        },
        {
         "0": "527-72-3246",
         "1": "Nashville",
         "2": "37215",
         "3": "TN",
         "4": "Morningstar",
         "5": "22 Graybar House Rd.",
         "6": "false",
         "7": "615 297-2723",
         "8": "Greene"
        },
        {
         "0": "472-27-2349",
         "1": "Covelo",
         "2": "95428",
         "3": "CA",
         "4": "Burt",
         "5": "PO Box 792",
         "6": "true",
         "7": "707 938-6445",
         "8": "Gringlesby"
        },
        {
         "0": "267-41-2394",
         "1": "San Jose",
         "2": "95128",
         "3": "CA",
         "4": "Michael",
         "5": "22 Cleveland Av. #14",
         "6": "true",
         "7": "408 286-2428",
         "8": "O'Leary"
        },
        {
         "0": "672-71-3249",
         "1": "Walnut Creek",
         "2": "94595",
         "3": "CA",
         "4": "Akiko",
         "5": "3 Silver Ct.",
         "6": "true",
         "7": "415 935-4228",
         "8": "Yokomoto"
        }
       ],
       "schema": [
        {
         "key": "0",
         "name": "au_id",
         "type": "string"
        },
        {
         "key": "1",
         "name": "city",
         "type": "string"
        },
        {
         "key": "2",
         "name": "zip",
         "type": "string"
        },
        {
         "key": "3",
         "name": "state",
         "type": "string"
        },
        {
         "key": "4",
         "name": "au_fname",
         "type": "string"
        },
        {
         "key": "5",
         "name": "address",
         "type": "string"
        },
        {
         "key": "6",
         "name": "contract",
         "type": "boolean"
        },
        {
         "key": "7",
         "name": "phone",
         "type": "string"
        },
        {
         "key": "8",
         "name": "au_lname",
         "type": "string"
        }
       ],
       "truncated": false
      },
      "wranglerEntryContext": {
       "candidateVariableNames": [
        "df"
       ],
       "dataframeType": "pyspark"
      }
     },
     "type": "Synapse.DataFrame"
    },
    "d22b0ebc-c965-4fbd-8e2d-d2eda41b5c63": {
     "persist_state": {
      "view": {
       "chartOptions": {
        "aggregationType": "count",
        "binsNumber": 10,
        "categoryFieldKeys": [
         "5"
        ],
        "chartType": "bar",
        "evaluatesOverAllRecords": false,
        "isStacked": false,
        "seriesFieldKeys": [
         "7"
        ],
        "wordFrequency": "-1"
       },
       "tableOptions": {},
       "type": "details",
       "viewOptionsGroup": [
        {
         "tabItems": [
          {
           "key": "0",
           "name": "Table",
           "options": {},
           "type": "table"
          }
         ]
        }
       ]
      }
     },
     "sync_state": {
      "isSummary": false,
      "language": "scala",
      "table": {
       "rows": [
        {
         "0": "master",
         "1": "SQL_Latin1_General_CP1_CI_AS"
        },
        {
         "0": "wh_pubs_case_sensitive",
         "1": "Latin1_General_100_BIN2_UTF8"
        },
        {
         "0": "wh_pubs_case_insensitive",
         "1": "Latin1_General_100_CI_AS_KS_WS_SC_UTF8"
        },
        {
         "0": "wh_fabric_bites",
         "1": "Latin1_General_100_CI_AS_KS_WS_SC_UTF8"
        }
       ],
       "schema": [
        {
         "key": "0",
         "name": "name",
         "type": "string"
        },
        {
         "key": "1",
         "name": "collation_name",
         "type": "string"
        }
       ],
       "truncated": false
      },
      "wranglerEntryContext": {
       "candidateVariableNames": [
        "df"
       ],
       "dataframeType": "pyspark"
      }
     },
     "type": "Synapse.DataFrame"
    }
   },
   "version": "0.1"
  },
  "widgets": {}
 },
 "nbformat": 4,
 "nbformat_minor": 5
}
